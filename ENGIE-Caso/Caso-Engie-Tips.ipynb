{
 "cells": [
  {
   "metadata": {},
   "cell_type": "markdown",
   "source": [
    "# Caso Práctico (tips) - ENGIE\n",
    "*Jose Enrique Zafra Mena*"
   ],
   "id": "71f96fc77aaedcf0"
  },
  {
   "metadata": {
    "ExecuteTime": {
     "end_time": "2024-06-29T14:43:35.629229Z",
     "start_time": "2024-06-29T14:43:34.279904Z"
    }
   },
   "cell_type": "code",
   "source": [
    "import numpy as np\n",
    "import pandas as pd\n",
    "import matplotlib.pyplot as plt\n",
    "from openpyxl import *"
   ],
   "id": "b59925ed9be6d8f5",
   "outputs": [],
   "execution_count": 1
  },
  {
   "metadata": {},
   "cell_type": "markdown",
   "source": "## Extración de los datos",
   "id": "c89c961e8ea72514"
  },
  {
   "metadata": {},
   "cell_type": "code",
   "outputs": [],
   "execution_count": null,
   "source": " facturas_df = pd.read_excel('facturas.xlsx')\n",
   "id": "e5257cfdaf2f4893"
  },
  {
   "metadata": {},
   "cell_type": "markdown",
   "source": "## Filtrado de datos relevantes",
   "id": "3971103890aecf73"
  },
  {
   "metadata": {},
   "cell_type": "code",
   "outputs": [],
   "execution_count": null,
   "source": "",
   "id": "dc13140596b243a1"
  },
  {
   "metadata": {},
   "cell_type": "markdown",
   "source": "## Conciliación",
   "id": "bee2a32b6f211cf"
  }
 ],
 "metadata": {
  "kernelspec": {
   "display_name": "Python 3",
   "language": "python",
   "name": "python3"
  },
  "language_info": {
   "codemirror_mode": {
    "name": "ipython",
    "version": 2
   },
   "file_extension": ".py",
   "mimetype": "text/x-python",
   "name": "python",
   "nbconvert_exporter": "python",
   "pygments_lexer": "ipython2",
   "version": "2.7.6"
  }
 },
 "nbformat": 4,
 "nbformat_minor": 5
}
