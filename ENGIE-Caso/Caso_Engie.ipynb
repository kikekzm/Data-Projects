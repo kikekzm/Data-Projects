{
 "nbformat": 4,
 "nbformat_minor": 0,
 "metadata": {
  "colab": {
   "provenance": [],
   "authorship_tag": "ABX9TyMeuHKIB0wWW1Sx83WpXGTK",
   "include_colab_link": true
  },
  "kernelspec": {
   "name": "python3",
   "display_name": "Python 3 (ipykernel)",
   "language": "python"
  },
  "language_info": {
   "name": "python"
  }
 },
 "cells": [
  {
   "cell_type": "markdown",
   "source": [
    "# Caso Práctico - ENGIE\n",
    "\n",
    "*Jose Enrique Zafra Mena*"
   ],
   "metadata": {
    "id": "PBxKy7ZvQa7u"
   }
  },
  {
   "cell_type": "code",
   "metadata": {
    "id": "VR8r43K1pBpX",
    "ExecuteTime": {
     "end_time": "2024-06-21T11:44:52.300592Z",
     "start_time": "2024-06-21T11:44:50.885482Z"
    }
   },
   "source": [
    "import numpy as np\n",
    "import matplotlib.pyplot as plt\n",
    "import pandas as pd\n",
    "import openpyxl"
   ],
   "outputs": [],
   "execution_count": 2
  },
  {
   "cell_type": "markdown",
   "source": [
    "## Carga y preparación de Datos\n"
   ],
   "metadata": {
    "id": "ckeriUYXQXVl"
   }
  },
  {
   "cell_type": "code",
   "source": [
    "facturas_df=pd.read_excel('facturas.xlsx')\n",
    "mapping_df=pd.read_excel('Mapping.xlsx')\n",
    "\n",
    "# renombramos los Deals\n",
    "CTV_df=pd.read_excel('JVLNG_CTV_STOK_MARZO_2024_05_23_14_12.xlsx')\n",
    "IAC_df=pd.read_excel('MEDG2_IAC_GETRA_MARZO_2024_05_23_14_12.xlsx')\n",
    "AOC2_df=pd.read_excel('SUGS2_AOC_STOK_MARZO_2024_05_23_14_12.xlsx')\n",
    "AOC_df=pd.read_excel('SUGST_AOC_STOK_MARZO_2024_05_23_14_12.xlsx')\n"
   ],
   "metadata": {
    "id": "VNSztI0GQuQM",
    "ExecuteTime": {
     "end_time": "2024-06-21T11:44:53.450428Z",
     "start_time": "2024-06-21T11:44:53.341483Z"
    }
   },
   "outputs": [],
   "execution_count": 3
  },
  {
   "cell_type": "code",
   "source": [
    "# verificamos las primeras filas de cada dataframe\n",
    "print(\"Facturas AGIkey:\")\n",
    "print(facturas_df.head())\n",
    "\n",
    "print(\"\\nMapping:\")\n",
    "print(mapping_df.head())\n",
    "\n",
    "print(\"\\nCTV:\")\n",
    "print(CTV_df.head())\n",
    "\n",
    "print(\"\\nIAC:\")\n",
    "print(IAC_df.head())\n",
    "\n",
    "print(\"\\nAOC2:\")\n",
    "print(AOC2_df.head())\n",
    "\n",
    "print(\"\\nAOC:\")\n",
    "print(AOC_df.head())"
   ],
   "metadata": {
    "colab": {
     "base_uri": "https://localhost:8080/",
     "height": 1000
    },
    "id": "PeqJpMAPXydm",
    "outputId": "d56c79a3-8b36-4775-ffb4-979595917e7c",
    "ExecuteTime": {
     "end_time": "2024-06-21T11:44:55.571923Z",
     "start_time": "2024-06-21T11:44:55.557156Z"
    }
   },
   "outputs": [
    {
     "name": "stdout",
     "output_type": "stream",
     "text": [
      "Facturas AGIkey:\n",
      "   NumeroFactura       Emisor       RazonSocialEmisor  DepEmisor     Receptor  \\\n",
      "0     2024264672  ESA86484292         ENAGAS GTS, SAU       60.0  ESB82508441   \n",
      "1     2024264671  ESA86484292         ENAGAS GTS, SAU       60.0  ESB82508441   \n",
      "2     2324004231  ESA86484334  ENAGAS TRANSPORTE, SAU        NaN  ESB82508441   \n",
      "3     2024164592  ESA86484292         ENAGAS GTS, SAU       50.0  ESB82508441   \n",
      "4     2024164591  ESA86484292         ENAGAS GTS, SAU       50.0  ESB82508441   \n",
      "\n",
      "  RazonSocialReceptor  DepReceptor FechaFactura    Importe Moneda    Estado  \\\n",
      "0    ENGIE ESPAÑA SLU          NaN       4/3/24  123195.13    EUR  Recibida   \n",
      "1    ENGIE ESPAÑA SLU          NaN       4/3/24  111963.62    EUR  Recibida   \n",
      "2    ENGIE ESPAÑA SLU          NaN       6/3/24  503763.47    EUR  Recibida   \n",
      "3    ENGIE ESPAÑA SLU          NaN       4/3/24    1375.12    EUR  Recibida   \n",
      "4    ENGIE ESPAÑA SLU          NaN       4/3/24    1787.43    EUR  Recibida   \n",
      "\n",
      "  FechaEstado FechaRegistro Destino   Contrato        Origen  \\\n",
      "0      4/3/24        4/3/24   eMail     344991           AVB   \n",
      "1      4/3/24        4/3/24   eMail     344991           AVB   \n",
      "2      6/3/24        6/3/24   eMail  300289985  C.I. Almería   \n",
      "3      4/3/24        4/3/24   eMail     344991           TVB   \n",
      "4      4/3/24        4/3/24   eMail     344991           TVB   \n",
      "\n",
      "       ServicioFacturado  ¿Verificada por BO?  Observaciones  \n",
      "0  Servicio agregado AVB                  NaN            NaN  \n",
      "1  Servicio agregado AVB                  NaN            NaN  \n",
      "2            Entrada PVB                  NaN            NaN  \n",
      "3     Almacenamiento TVB                  NaN            NaN  \n",
      "4     Almacenamiento TVB                  NaN            NaN  \n",
      "\n",
      "Mapping:\n",
      "         Origen Servicio facturado Portfolio Commodity DealType\n",
      "0  C.I. Almería        Entrada PVB     MEDG2       IAC    GETRA\n",
      "1           TVB            PLANTAS     JVLNG       ICC    GETRA\n",
      "2           TVB            PLANTAS     JVLNG       ICC    GETRA\n",
      "3           TVB            PLANTAS     JVLNG       ICC    GETRA\n",
      "4           TVB            PLANTAS     JVLNG       ICC    GETRA\n",
      "\n",
      "CTV:\n",
      "   Unnamed: 0                       AggregatedKey ApplicationPeriod  \\\n",
      "0           0  42563586,2024/05/20 13:35:59,GEFWD            010524   \n",
      "1           1  42518127,2024/05/20 13:34:13,GEFWD            040624   \n",
      "2           2  42518126,2024/05/20 13:35:59,GEFWD            010624   \n",
      "3           3  42518125,2024/05/20 13:35:59,GEFWD            010524   \n",
      "4           4  42518124,2024/05/20 13:35:59,GEFWD            280424   \n",
      "\n",
      "  BookingSource  BOValidated           BOValidationDate BOValidator  \\\n",
      "0           MET         True  2024-05-20T13:35:59+02:00      GGH410   \n",
      "1           MET         True  2024-05-20T13:34:13+02:00      GGH410   \n",
      "2           MET         True  2024-05-20T13:35:59+02:00      GGH410   \n",
      "3           MET         True  2024-05-20T13:35:59+02:00      GGH410   \n",
      "4           MET         True  2024-05-20T13:35:59+02:00      GGH410   \n",
      "\n",
      "   CancelsDealId  Capacity  CapacityFrequency  ... ExerciseDate ExerciseType  \\\n",
      "0              0   90000.0             1440.0  ...          NaN          NaN   \n",
      "1              0   50000.0             1440.0  ...          NaN          NaN   \n",
      "2              0   50000.0             1440.0  ...          NaN          NaN   \n",
      "3              0   50000.0             1440.0  ...          NaN          NaN   \n",
      "4              0   50000.0             1440.0  ...          NaN          NaN   \n",
      "\n",
      "   Nature OptionNature OptionType  PeriodInfoCollection Script TemplateId  \\\n",
      "0     NaN          NaN        NaN                   NaN    NaN        NaN   \n",
      "1     NaN          NaN        NaN                   NaN    NaN        NaN   \n",
      "2     NaN          NaN        NaN                   NaN    NaN        NaN   \n",
      "3     NaN          NaN        NaN                   NaN    NaN        NaN   \n",
      "4     NaN          NaN        NaN                   NaN    NaN        NaN   \n",
      "\n",
      "  TemplateScript OrderId  \n",
      "0            NaN     NaN  \n",
      "1            NaN     NaN  \n",
      "2            NaN     NaN  \n",
      "3            NaN     NaN  \n",
      "4            NaN     NaN  \n",
      "\n",
      "[5 rows x 108 columns]\n",
      "\n",
      "IAC:\n",
      "   Unnamed: 0                       AggregatedKey ApplicationPeriod  \\\n",
      "0           0  37591650,2024/05/17 09:15:39,GETRA             CAL24   \n",
      "1           1  37056084,2024/02/09 14:35:58,GETRA             CAL23   \n",
      "\n",
      "   AuctionType BookingSource  BOValidated           BOValidationDate  \\\n",
      "0          NaN           MET         True  2024-03-11T13:26:05+01:00   \n",
      "1          NaN           MET         True  2024-02-09T14:35:58+01:00   \n",
      "\n",
      "  BOValidator  CancelsDealId  Capacity  ...  TraderCode      TraderName  \\\n",
      "0      GGH410              0     31500  ...  D12\\EF2015  AUBIN Baptiste   \n",
      "1      GGH410              0     31500  ...  D12\\EF2015  AUBIN Baptiste   \n",
      "\n",
      "  TradeType  TradingPlace TradingSystem Underlying  UnwindStatus VAI  \\\n",
      "0    Market            MA            ME        IAC        Normal   0   \n",
      "1    Market            MA            ME        IAC        Normal   0   \n",
      "\n",
      "         VersionCreationDate          VersionUpdateDate  \n",
      "0  2024-05-17T09:15:39+02:00  9999-01-01T00:00:00+01:00  \n",
      "1  2024-02-09T14:35:58+01:00  9999-01-01T00:00:00+01:00  \n",
      "\n",
      "[2 rows x 86 columns]\n",
      "\n",
      "AOC2:\n",
      "   Unnamed: 0                       AggregatedKey ApplicationPeriod  \\\n",
      "0           0  41996650,2024/04/24 10:41:24,GEFWD            010424   \n",
      "1           1  40094436,2023/12/27 12:37:03,GEFWD             OCT23   \n",
      "2           2  40089592,2023/10/09 13:07:03,GEFWD            041023   \n",
      "3           3  38410189,2023/12/27 12:24:19,GEFWD            010523   \n",
      "4           4  38290195,2023/12/27 12:22:36,GEFWD            170423   \n",
      "\n",
      "  BookingSource  BOValidated           BOValidationDate BOValidator  \\\n",
      "0           MET         True  2024-04-24T10:41:24+02:00      GGH410   \n",
      "1           MET         True  2023-12-27T12:37:03+01:00      GGH410   \n",
      "2           MET        False  1900-01-01T00:00:00+01:00         NaN   \n",
      "3           MET         True  2023-12-27T12:24:19+01:00      GGH410   \n",
      "4           MET         True  2023-12-27T12:22:36+01:00      GGH410   \n",
      "\n",
      "   CancelsDealId     Capacity  CapacityFrequency  ... VAI  \\\n",
      "0              0  15000.00000               1440  ...   0   \n",
      "1              0      0.00001               1440  ...   0   \n",
      "2              0    281.70580               1440  ...   0   \n",
      "3              0   1178.16300               1440  ...   0   \n",
      "4              0    924.58800               1440  ...   0   \n",
      "\n",
      "         VersionCreationDate          VersionUpdateDate  OriginalId  \\\n",
      "0  2024-04-24T10:41:24+02:00  9999-01-01T00:00:00+01:00         NaN   \n",
      "1  2023-12-27T12:37:03+01:00  9999-01-01T00:00:00+01:00         NaN   \n",
      "2  2023-10-09T13:07:03+02:00  2023-10-09T13:07:03+02:00  22396724.0   \n",
      "3  2023-12-27T12:24:19+01:00  9999-01-01T00:00:00+01:00         NaN   \n",
      "4  2023-12-27T12:22:36+01:00  9999-01-01T00:00:00+01:00         NaN   \n",
      "\n",
      "            FOComment  Interruptible IsVirtualLeg Premium PremiumCurrency  \\\n",
      "0                 NaN            NaN          NaN     NaN             NaN   \n",
      "1                 NaN            NaN          NaN     NaN             NaN   \n",
      "2                 NaN            NaN          NaN     NaN             NaN   \n",
      "3  DESBALANCE CARTERA            NaN          NaN     NaN             NaN   \n",
      "4  DESBALANCE CARTERA            NaN          NaN     NaN             NaN   \n",
      "\n",
      "  PremiumQuantityUnit  \n",
      "0                 NaN  \n",
      "1                 NaN  \n",
      "2                 NaN  \n",
      "3                 NaN  \n",
      "4                 NaN  \n",
      "\n",
      "[5 rows x 97 columns]\n",
      "\n",
      "AOC:\n",
      "   Unnamed: 0                       AggregatedKey BookingSource  BOValidated  \\\n",
      "0           0   41888250,2024/05/17 16:48:00,STOK           MET         True   \n",
      "1           1  38290460,2023/12/27 12:22:36,GEFWD           MET         True   \n",
      "2           2  38249489,2023/12/27 12:22:36,GEFWD           MET         True   \n",
      "3           3  38054569,2023/12/27 12:18:50,GEFWD           MET         True   \n",
      "4           4   36525979,2024/04/26 12:02:50,STOK           MET         True   \n",
      "\n",
      "            BOValidationDate BOValidator  CancelsDealId  CapacityFrequency  \\\n",
      "0  2024-05-17T16:48:00+02:00      GGH410              0               1440   \n",
      "1  2023-12-27T12:22:36+01:00      GGH410              0               1440   \n",
      "2  2023-12-27T12:22:36+01:00      GGH410              0               1440   \n",
      "3  2023-12-27T12:18:50+01:00      GGH410              0               1440   \n",
      "4  2024-04-26T12:02:50+02:00      GGH410              0               1440   \n",
      "\n",
      "  CapacityUnit Category  ...  HasDeliveryExceptions HasShape  N_1  \\\n",
      "0          MWZ        O  ...                    NaN      NaN  NaN   \n",
      "1          MWZ        O  ...                    0.0      0.0  0.0   \n",
      "2          MWZ        O  ...                    0.0      0.0  0.0   \n",
      "3          MWZ        O  ...                    0.0      0.0  NaN   \n",
      "4          MWZ        O  ...                    NaN      NaN  NaN   \n",
      "\n",
      "                                             Periods Strike StrikeCurrency  \\\n",
      "0                                                NaN    NaN            NaN   \n",
      "1  [{'MarketMaturityId': '170423', 'DeliveryPerio...  35.20            EUR   \n",
      "2  [{'MarketMaturityId': '160423', 'DeliveryPerio...  34.55            EUR   \n",
      "3  [{'MarketMaturityId': '250323', 'DeliveryPerio...  36.76            EUR   \n",
      "4                                                NaN    NaN            NaN   \n",
      "\n",
      "  StrikeCurrencyFactor StrikeQuantityUnit TotalQuantity  \\\n",
      "0                  NaN                NaN           NaN   \n",
      "1                  1.0                MWZ       924.588   \n",
      "2                  1.0                MWZ       352.340   \n",
      "3                  1.0                MWZ      3910.694   \n",
      "4                  NaN                NaN           NaN   \n",
      "\n",
      "              TradeValueDate  \n",
      "0                        NaN  \n",
      "1  2023-04-24T00:00:00+02:00  \n",
      "2  2023-04-19T00:00:00+02:00  \n",
      "3  2023-03-28T00:00:00+02:00  \n",
      "4                        NaN  \n",
      "\n",
      "[5 rows x 96 columns]\n"
     ]
    }
   ],
   "execution_count": 4
  },
  {
   "metadata": {
    "ExecuteTime": {
     "end_time": "2024-06-21T11:45:01.208613Z",
     "start_time": "2024-06-21T11:45:01.204892Z"
    }
   },
   "cell_type": "code",
   "source": [
    "# verificamos las columnas de cada dataframe\n",
    "print(\"\\nColumnas de Facturas:\")\n",
    "print(facturas_df.columns)\n",
    "\n",
    "print(\"\\nColumnas de Mapping:\")\n",
    "print(mapping_df.columns)\n",
    "\n",
    "print(\"\\nColumnas de CTV:\")\n",
    "print(CTV_df.columns)\n",
    " \n",
    "print(\"\\nColumnas de IAC:\")\n",
    "print(IAC_df.columns)\n",
    "\n",
    "print(\"\\nColumnas de AOC2:\")\n",
    "print(AOC2_df.columns)\n",
    "\n",
    "print(\"\\nColumnas de AOC:\")\n",
    "print(AOC_df.columns)\n"
   ],
   "outputs": [
    {
     "name": "stdout",
     "output_type": "stream",
     "text": [
      "\n",
      "Columnas de Facturas:\n",
      "Index(['NumeroFactura', 'Emisor', 'RazonSocialEmisor', 'DepEmisor', 'Receptor',\n",
      "       'RazonSocialReceptor', 'DepReceptor', 'FechaFactura', 'Importe',\n",
      "       'Moneda', 'Estado', 'FechaEstado', 'FechaRegistro', 'Destino',\n",
      "       'Contrato', 'Origen', 'ServicioFacturado', '¿Verificada por BO?',\n",
      "       'Observaciones'],\n",
      "      dtype='object')\n",
      "\n",
      "Columnas de Mapping:\n",
      "Index(['Origen', 'Servicio facturado', 'Portfolio', 'Commodity', 'DealType'], dtype='object')\n",
      "\n",
      "Columnas de CTV:\n",
      "Index(['Unnamed: 0', 'AggregatedKey', 'ApplicationPeriod', 'BookingSource',\n",
      "       'BOValidated', 'BOValidationDate', 'BOValidator', 'CancelsDealId',\n",
      "       'Capacity', 'CapacityFrequency',\n",
      "       ...\n",
      "       'ExerciseDate', 'ExerciseType', 'Nature', 'OptionNature', 'OptionType',\n",
      "       'PeriodInfoCollection', 'Script', 'TemplateId', 'TemplateScript',\n",
      "       'OrderId'],\n",
      "      dtype='object', length=108)\n",
      "\n",
      "Columnas de IAC:\n",
      "Index(['Unnamed: 0', 'AggregatedKey', 'ApplicationPeriod', 'AuctionType',\n",
      "       'BookingSource', 'BOValidated', 'BOValidationDate', 'BOValidator',\n",
      "       'CancelsDealId', 'Capacity', 'CapacityFrequency', 'CapacityUnit',\n",
      "       'Category', 'Clearer', 'ClientType', 'CommodityType', 'Counterparty',\n",
      "       'CounterpartyCode', 'CounterpartyLongName', 'CounterpartyName',\n",
      "       'Currency', 'DealCreationDate', 'DealType', 'DeliveryPeriodName',\n",
      "       'DeliveryPoint', 'DeliveryType', 'DeliveryZone', 'Desk', 'Direction',\n",
      "       'EndDeliveryDate', 'Entity', 'ExtraVAI', 'Flows', 'FOComment',\n",
      "       'FOValidation', 'FromDeliveryPoint', 'FromDeliveryZone', 'Id',\n",
      "       'Interruptible', 'IsVirtualLeg', 'LastUpdateTime', 'LegId', 'LegType',\n",
      "       'MaturityDate', 'MaturityValueDate', 'MidPrice', 'MirrorFOValidation',\n",
      "       'MirrorPortFolioId', 'MirrorTradeId', 'Nature', 'NextFixingDate',\n",
      "       'Origin', 'OriginalTrader', 'Portfolio', 'PortfolioDivision',\n",
      "       'PortfolioGop', 'PortfolioLongName', 'PortfolioName', 'POValidated',\n",
      "       'Premium', 'PremiumCurrency', 'PremiumQuantityUnit', 'Quantity',\n",
      "       'QuantityUnit', 'ReplacedByDealId', 'ReplacesDealId', 'SettleCurrency',\n",
      "       'SettlementDate', 'SettlementPremium', 'SettlementRule',\n",
      "       'StartDeliveryDate', 'Status', 'TasPaymentFrequency', 'TradeDate',\n",
      "       'TradeProperties', 'Trader', 'TraderCode', 'TraderName', 'TradeType',\n",
      "       'TradingPlace', 'TradingSystem', 'Underlying', 'UnwindStatus', 'VAI',\n",
      "       'VersionCreationDate', 'VersionUpdateDate'],\n",
      "      dtype='object')\n",
      "\n",
      "Columnas de AOC2:\n",
      "Index(['Unnamed: 0', 'AggregatedKey', 'ApplicationPeriod', 'BookingSource',\n",
      "       'BOValidated', 'BOValidationDate', 'BOValidator', 'CancelsDealId',\n",
      "       'Capacity', 'CapacityFrequency', 'CapacityUnit', 'Category', 'Clearer',\n",
      "       'ClientType', 'CommodityType', 'Counterparty', 'CounterpartyCode',\n",
      "       'CounterpartyLongName', 'CounterpartyName', 'Currency',\n",
      "       'DealCreationDate', 'DealType', 'DeliveryPeriodName', 'DeliveryPoint',\n",
      "       'DeliveryProfileCode', 'DeliveryProfileName', 'DeliveryType',\n",
      "       'DeliveryZone', 'Desk', 'Direction', 'EndDeliveryDate', 'Entity',\n",
      "       'ExtraVAI', 'Flows', 'Folder', 'FolderName', 'FOValidation',\n",
      "       'HasDeliveryExceptions', 'HasShape', 'Id', 'LastUpdateTime', 'LegId',\n",
      "       'LegType', 'MaturityDate', 'MaturityValueDate', 'MidPrice',\n",
      "       'MirrorFOValidation', 'MirrorPortFolioId', 'MirrorTradeId', 'N_1',\n",
      "       'NextFixingDate', 'Origin', 'OriginalTrader', 'Periods', 'Portfolio',\n",
      "       'PortfolioDivision', 'PortfolioGop', 'PortfolioLongName',\n",
      "       'PortfolioName', 'Quantity', 'QuantityUnit', 'ReplacedByDealId',\n",
      "       'ReplacesDealId', 'SettleCurrency', 'SettlementDate',\n",
      "       'SettlementFrequency', 'SettlementRule', 'StartDeliveryDate', 'Status',\n",
      "       'Strike', 'StrikeCurrency', 'StrikeCurrencyFactor',\n",
      "       'StrikeQuantityUnit', 'TasPaymentFrequency', 'TemplateProfile',\n",
      "       'TotalQuantity', 'TradeDate', 'TradeProperties', 'Trader', 'TraderCode',\n",
      "       'TraderName', 'TradeType', 'TradeValueDate', 'TradingPlace',\n",
      "       'TradingSystem', 'Underlying', 'UnwindStatus', 'VAI',\n",
      "       'VersionCreationDate', 'VersionUpdateDate', 'OriginalId', 'FOComment',\n",
      "       'Interruptible', 'IsVirtualLeg', 'Premium', 'PremiumCurrency',\n",
      "       'PremiumQuantityUnit'],\n",
      "      dtype='object')\n",
      "\n",
      "Columnas de AOC:\n",
      "Index(['Unnamed: 0', 'AggregatedKey', 'BookingSource', 'BOValidated',\n",
      "       'BOValidationDate', 'BOValidator', 'CancelsDealId', 'CapacityFrequency',\n",
      "       'CapacityUnit', 'Category', 'Clearer', 'ClientType', 'CommodityType',\n",
      "       'Counterparty', 'CounterpartyCode', 'CounterpartyLongName',\n",
      "       'CounterpartyName', 'Currency', 'DealCreationDate', 'DealType',\n",
      "       'DeliveryPeriodName', 'DeliveryPoint', 'DeliveryProfileCode',\n",
      "       'DeliveryProfileName', 'DeliveryType', 'DeliveryZone', 'Desk',\n",
      "       'Direction', 'EndDeliveryDate', 'Entity', 'ExtraVAI', 'Flows',\n",
      "       'FOComment', 'FOValidation', 'Id', 'Interruptible', 'IsVirtualLeg',\n",
      "       'LastUpdateTime', 'LegId', 'LegType', 'MaturityDate',\n",
      "       'MaturityValueDate', 'MidPrice', 'MirrorFOValidation',\n",
      "       'MirrorPortFolioId', 'MirrorTradeId', 'NextFixingDate', 'Origin',\n",
      "       'OriginalTrader', 'Portfolio', 'PortfolioDivision', 'PortfolioGop',\n",
      "       'PortfolioLongName', 'PortfolioName', 'Premium', 'PremiumCurrency',\n",
      "       'PremiumQuantityUnit', 'Quantity', 'QuantityUnit', 'ReplacedByDealId',\n",
      "       'ReplacesDealId', 'SettleCurrency', 'SettlementDate',\n",
      "       'SettlementFrequency', 'SettlementRule', 'StartDeliveryDate', 'Status',\n",
      "       'TasPaymentFrequency', 'TemplateProfile', 'TradeDate',\n",
      "       'TradeProperties', 'Trader', 'TraderCode', 'TraderName', 'TradeType',\n",
      "       'TradingPlace', 'TradingSystem', 'Underlying', 'UnwindStatus', 'VAI',\n",
      "       'VersionCreationDate', 'VersionUpdateDate', 'ApplicationPeriod',\n",
      "       'Capacity', 'Folder', 'FolderName', 'HasDeliveryExceptions', 'HasShape',\n",
      "       'N_1', 'Periods', 'Strike', 'StrikeCurrency', 'StrikeCurrencyFactor',\n",
      "       'StrikeQuantityUnit', 'TotalQuantity', 'TradeValueDate'],\n",
      "      dtype='object')\n"
     ]
    }
   ],
   "execution_count": 5
  },
  {
   "metadata": {},
   "cell_type": "markdown",
   "source": "Vamos a renombrar columnas comunes,"
  },
  {
   "metadata": {
    "ExecuteTime": {
     "end_time": "2024-06-21T11:45:05.081081Z",
     "start_time": "2024-06-21T11:45:05.077578Z"
    }
   },
   "cell_type": "code",
   "source": [
    "facturas_df.rename(columns={'ServicioFacturado': 'Servicio Facturado'}, inplace=True)\n",
    "mapping_df.rename(columns={'Servicio facturado': 'Servicio Facturado'}, inplace=True)"
   ],
   "outputs": [],
   "execution_count": 6
  },
  {
   "cell_type": "markdown",
   "source": [
    "## Transformación de los datos\n",
    "\n",
    "Los Deals tienen columnas que no necesitamos para la conciliación. Necesitamos solo algo que lo identifique (ID) y su importe. "
   ],
   "metadata": {
    "id": "3BLfErtxQws0"
   }
  },
  {
   "metadata": {
    "ExecuteTime": {
     "end_time": "2024-06-21T12:05:23.867197Z",
     "start_time": "2024-06-21T12:05:23.862980Z"
    }
   },
   "cell_type": "code",
   "source": [
    "# para renombrar las columnas, usamos las columnas de CTV\n",
    "CTV_min_df = CTV_df.loc[:,['Id','LegId','LegType','Category', 'TotalQuantity', 'TradeDate']]\n",
    "# les ponemos otro nombre\n",
    "CTV_min_df.rename(columns={'TotalQuantity':'Quantity' } , inplace=True)\n",
    "\n",
    "# ahora escogemos las columnas que queremos de cada Deal\n",
    "IAC_min_df = IAC_df.loc[:,['Id','LegId','LegType','Category', 'Quantity', 'TradeDate']]\n",
    "AOC_min_df = AOC_df.loc[:,['Id','LegId','LegType','Category', 'Quantity', 'TradeDate']]\n",
    "AOC2_min_df = AOC2_df.loc[:,['Id','LegId','LegType','Category', 'Quantity', 'TradeDate']]\n"
   ],
   "outputs": [],
   "execution_count": 19
  },
  {
   "metadata": {},
   "cell_type": "markdown",
   "source": [
    "Vamos a conectar el Mapping con cada Deal, ya que queremos comparar con las facturas.\n",
    "\n",
    "Para conectar Mapping con CTV usamos Commodity==CTV\n",
    "\n",
    "Para conectar Mapping con IAC usamos Commodity==IAC\n",
    "\n",
    "Para conectar Mapping con AOC usamos Commodity==AOC & Portofolio: SUGST\n",
    "\n",
    "Para conectar Mapping con AOC2 usamos Commodity==AOC & Portofolio: SUGS2\n"
   ]
  },
  {
   "metadata": {
    "ExecuteTime": {
     "end_time": "2024-06-21T12:10:22.394941Z",
     "start_time": "2024-06-21T12:10:22.390511Z"
    }
   },
   "cell_type": "code",
   "source": [
    "# para poder unir cada Deal con Mapping individualmente, añadimos las columnas Portofolio y Commodity a cada deal\n",
    "# y le asignamos su nombre correspondiente\n",
    "\n",
    "CTV_min_df['Portfolio']='JVLNG'\n",
    "CTV_min_df['Commodity']='CTV'\n",
    "\n",
    "\n",
    "IAC_min_df['Portfolio']='MEDG2'\n",
    "IAC_min_df['Commodity']='IAC'\n",
    "\n",
    "AOC_min_df['Portfolio']='SUGST'\n",
    "AOC_min_df['Commodity']='AOC'\n",
    "\n",
    "AOC2_min_df['Portfolio']='SUGS2'\n",
    "AOC2_min_df['Commodity']='AOC'\n",
    "\n",
    "print(IAC_min_df.head())"
   ],
   "outputs": [
    {
     "name": "stdout",
     "output_type": "stream",
     "text": [
      "         Id     LegId    LegType Category  Quantity  \\\n",
      "0  37591650  37591650  Transport        O         0   \n",
      "1  37056084  37056084  Transport        O         0   \n",
      "\n",
      "                   TradeDate Portfolio Commodity  \n",
      "0  2023-02-15T00:00:00+01:00     MEDG2       IAC  \n",
      "1  2022-12-29T00:00:00+01:00     MEDG2       IAC  \n"
     ]
    }
   ],
   "execution_count": 24
  },
  {
   "metadata": {
    "ExecuteTime": {
     "end_time": "2024-06-21T12:22:41.933274Z",
     "start_time": "2024-06-21T12:22:41.925642Z"
    }
   },
   "cell_type": "code",
   "source": [
    "# ahora unimos cada uno con mapping\n",
    "\n",
    "CTV_mapped_df = pd.merge(CTV_min_df,mapping_df,on=['Commodity', 'Portfolio'],how='inner')\n",
    "IAC_mapped_df = pd.merge(IAC_min_df,mapping_df,on=['Commodity', 'Portfolio'],how='inner')\n",
    "AOC_mapped_df = pd.merge(AOC_min_df, mapping_df, on=['Commodity', 'Portfolio'], how='inner')\n",
    "AOC2_mapped_df = pd.merge(AOC2_min_df,mapping_df,on=['Commodity', 'Portfolio'],how='inner')\n",
    "\n",
    "#print(CTV_mapped_df.head())\n",
    "print(IAC_mapped_df.head())"
   ],
   "outputs": [
    {
     "name": "stdout",
     "output_type": "stream",
     "text": [
      "         Id     LegId    LegType Category  Quantity  \\\n",
      "0  37591650  37591650  Transport        O         0   \n",
      "1  37056084  37056084  Transport        O         0   \n",
      "\n",
      "                   TradeDate Portfolio Commodity        Origen  \\\n",
      "0  2023-02-15T00:00:00+01:00     MEDG2       IAC  C.I. Almería   \n",
      "1  2022-12-29T00:00:00+01:00     MEDG2       IAC  C.I. Almería   \n",
      "\n",
      "  Servicio Facturado DealType  \n",
      "0        Entrada PVB    GETRA  \n",
      "1        Entrada PVB    GETRA  \n"
     ]
    }
   ],
   "execution_count": 29
  },
  {
   "metadata": {},
   "cell_type": "markdown",
   "source": "Con esto ya tenemos los Deals listos para compararlos con Facturas (Conciliación)"
  },
  {
   "metadata": {},
   "cell_type": "markdown",
   "source": "## Conciliación"
  },
  {
   "metadata": {
    "ExecuteTime": {
     "end_time": "2024-06-20T22:41:01.808847Z",
     "start_time": "2024-06-20T22:41:01.711845Z"
    }
   },
   "cell_type": "code",
   "source": [
    "common_columns_CTV=facturas_df.columns.intersection(CTV_mapped_df.columns).intersection(CTV_mapped_df.columns)\n",
    "\n",
    "comparison = facturas_df[common_columns_CTV] == CTV_mapped_df[common_columns_CTV]\n",
    "\n",
    "differences = comparison[~comparison.all(axis=1)]\n",
    "\n",
    "print(differences.head())"
   ],
   "outputs": [
    {
     "ename": "ValueError",
     "evalue": "Can only compare identically-labeled (both index and columns) DataFrame objects",
     "output_type": "error",
     "traceback": [
      "\u001B[1;31m---------------------------------------------------------------------------\u001B[0m",
      "\u001B[1;31mValueError\u001B[0m                                Traceback (most recent call last)",
      "\u001B[1;32m~\\AppData\\Local\\Temp\\ipykernel_32664\\1372866335.py\u001B[0m in \u001B[0;36m?\u001B[1;34m()\u001B[0m\n\u001B[0;32m      1\u001B[0m \u001B[0mcommon_columns_CTV\u001B[0m\u001B[1;33m=\u001B[0m\u001B[0mfacturas_df\u001B[0m\u001B[1;33m.\u001B[0m\u001B[0mcolumns\u001B[0m\u001B[1;33m.\u001B[0m\u001B[0mintersection\u001B[0m\u001B[1;33m(\u001B[0m\u001B[0mCTV_mapped_df\u001B[0m\u001B[1;33m.\u001B[0m\u001B[0mcolumns\u001B[0m\u001B[1;33m)\u001B[0m\u001B[1;33m.\u001B[0m\u001B[0mintersection\u001B[0m\u001B[1;33m(\u001B[0m\u001B[0mCTV_mapped_df\u001B[0m\u001B[1;33m.\u001B[0m\u001B[0mcolumns\u001B[0m\u001B[1;33m)\u001B[0m\u001B[1;33m\u001B[0m\u001B[1;33m\u001B[0m\u001B[0m\n\u001B[0;32m      2\u001B[0m \u001B[1;33m\u001B[0m\u001B[0m\n\u001B[1;32m----> 3\u001B[1;33m \u001B[0mcomparison\u001B[0m \u001B[1;33m=\u001B[0m \u001B[0mfacturas_df\u001B[0m\u001B[1;33m[\u001B[0m\u001B[0mcommon_columns_CTV\u001B[0m\u001B[1;33m]\u001B[0m \u001B[1;33m==\u001B[0m \u001B[0mCTV_mapped_df\u001B[0m\u001B[1;33m[\u001B[0m\u001B[0mcommon_columns_CTV\u001B[0m\u001B[1;33m]\u001B[0m\u001B[1;33m\u001B[0m\u001B[1;33m\u001B[0m\u001B[0m\n\u001B[0m\u001B[0;32m      4\u001B[0m \u001B[1;33m\u001B[0m\u001B[0m\n\u001B[0;32m      5\u001B[0m \u001B[0mdifferences\u001B[0m \u001B[1;33m=\u001B[0m \u001B[0mcomparison\u001B[0m\u001B[1;33m[\u001B[0m\u001B[1;33m~\u001B[0m\u001B[0mcomparison\u001B[0m\u001B[1;33m.\u001B[0m\u001B[0mall\u001B[0m\u001B[1;33m(\u001B[0m\u001B[0maxis\u001B[0m\u001B[1;33m=\u001B[0m\u001B[1;36m1\u001B[0m\u001B[1;33m)\u001B[0m\u001B[1;33m]\u001B[0m\u001B[1;33m\u001B[0m\u001B[1;33m\u001B[0m\u001B[0m\n\u001B[0;32m      6\u001B[0m \u001B[1;33m\u001B[0m\u001B[0m\n",
      "\u001B[1;32m~\\AppData\\Local\\Programs\\Python\\Python312\\Lib\\site-packages\\pandas\\core\\ops\\common.py\u001B[0m in \u001B[0;36m?\u001B[1;34m(self, other)\u001B[0m\n\u001B[0;32m     72\u001B[0m                     \u001B[1;32mreturn\u001B[0m \u001B[0mNotImplemented\u001B[0m\u001B[1;33m\u001B[0m\u001B[1;33m\u001B[0m\u001B[0m\n\u001B[0;32m     73\u001B[0m \u001B[1;33m\u001B[0m\u001B[0m\n\u001B[0;32m     74\u001B[0m         \u001B[0mother\u001B[0m \u001B[1;33m=\u001B[0m \u001B[0mitem_from_zerodim\u001B[0m\u001B[1;33m(\u001B[0m\u001B[0mother\u001B[0m\u001B[1;33m)\u001B[0m\u001B[1;33m\u001B[0m\u001B[1;33m\u001B[0m\u001B[0m\n\u001B[0;32m     75\u001B[0m \u001B[1;33m\u001B[0m\u001B[0m\n\u001B[1;32m---> 76\u001B[1;33m         \u001B[1;32mreturn\u001B[0m \u001B[0mmethod\u001B[0m\u001B[1;33m(\u001B[0m\u001B[0mself\u001B[0m\u001B[1;33m,\u001B[0m \u001B[0mother\u001B[0m\u001B[1;33m)\u001B[0m\u001B[1;33m\u001B[0m\u001B[1;33m\u001B[0m\u001B[0m\n\u001B[0m",
      "\u001B[1;32m~\\AppData\\Local\\Programs\\Python\\Python312\\Lib\\site-packages\\pandas\\core\\arraylike.py\u001B[0m in \u001B[0;36m?\u001B[1;34m(self, other)\u001B[0m\n\u001B[0;32m     38\u001B[0m     \u001B[1;33m@\u001B[0m\u001B[0munpack_zerodim_and_defer\u001B[0m\u001B[1;33m(\u001B[0m\u001B[1;34m\"__eq__\"\u001B[0m\u001B[1;33m)\u001B[0m\u001B[1;33m\u001B[0m\u001B[1;33m\u001B[0m\u001B[0m\n\u001B[0;32m     39\u001B[0m     \u001B[1;32mdef\u001B[0m \u001B[0m__eq__\u001B[0m\u001B[1;33m(\u001B[0m\u001B[0mself\u001B[0m\u001B[1;33m,\u001B[0m \u001B[0mother\u001B[0m\u001B[1;33m)\u001B[0m\u001B[1;33m:\u001B[0m\u001B[1;33m\u001B[0m\u001B[1;33m\u001B[0m\u001B[0m\n\u001B[1;32m---> 40\u001B[1;33m         \u001B[1;32mreturn\u001B[0m \u001B[0mself\u001B[0m\u001B[1;33m.\u001B[0m\u001B[0m_cmp_method\u001B[0m\u001B[1;33m(\u001B[0m\u001B[0mother\u001B[0m\u001B[1;33m,\u001B[0m \u001B[0moperator\u001B[0m\u001B[1;33m.\u001B[0m\u001B[0meq\u001B[0m\u001B[1;33m)\u001B[0m\u001B[1;33m\u001B[0m\u001B[1;33m\u001B[0m\u001B[0m\n\u001B[0m",
      "\u001B[1;32m~\\AppData\\Local\\Programs\\Python\\Python312\\Lib\\site-packages\\pandas\\core\\frame.py\u001B[0m in \u001B[0;36m?\u001B[1;34m(self, other, op)\u001B[0m\n\u001B[0;32m   7894\u001B[0m     \u001B[1;32mdef\u001B[0m \u001B[0m_cmp_method\u001B[0m\u001B[1;33m(\u001B[0m\u001B[0mself\u001B[0m\u001B[1;33m,\u001B[0m \u001B[0mother\u001B[0m\u001B[1;33m,\u001B[0m \u001B[0mop\u001B[0m\u001B[1;33m)\u001B[0m\u001B[1;33m:\u001B[0m\u001B[1;33m\u001B[0m\u001B[1;33m\u001B[0m\u001B[0m\n\u001B[0;32m   7895\u001B[0m         \u001B[0maxis\u001B[0m\u001B[1;33m:\u001B[0m \u001B[0mLiteral\u001B[0m\u001B[1;33m[\u001B[0m\u001B[1;36m1\u001B[0m\u001B[1;33m]\u001B[0m \u001B[1;33m=\u001B[0m \u001B[1;36m1\u001B[0m  \u001B[1;31m# only relevant for Series other case\u001B[0m\u001B[1;33m\u001B[0m\u001B[1;33m\u001B[0m\u001B[0m\n\u001B[0;32m   7896\u001B[0m \u001B[1;33m\u001B[0m\u001B[0m\n\u001B[1;32m-> 7897\u001B[1;33m         \u001B[0mself\u001B[0m\u001B[1;33m,\u001B[0m \u001B[0mother\u001B[0m \u001B[1;33m=\u001B[0m \u001B[0mself\u001B[0m\u001B[1;33m.\u001B[0m\u001B[0m_align_for_op\u001B[0m\u001B[1;33m(\u001B[0m\u001B[0mother\u001B[0m\u001B[1;33m,\u001B[0m \u001B[0maxis\u001B[0m\u001B[1;33m,\u001B[0m \u001B[0mflex\u001B[0m\u001B[1;33m=\u001B[0m\u001B[1;32mFalse\u001B[0m\u001B[1;33m,\u001B[0m \u001B[0mlevel\u001B[0m\u001B[1;33m=\u001B[0m\u001B[1;32mNone\u001B[0m\u001B[1;33m)\u001B[0m\u001B[1;33m\u001B[0m\u001B[1;33m\u001B[0m\u001B[0m\n\u001B[0m\u001B[0;32m   7898\u001B[0m \u001B[1;33m\u001B[0m\u001B[0m\n\u001B[0;32m   7899\u001B[0m         \u001B[1;31m# See GH#4537 for discussion of scalar op behavior\u001B[0m\u001B[1;33m\u001B[0m\u001B[1;33m\u001B[0m\u001B[0m\n\u001B[0;32m   7900\u001B[0m         \u001B[0mnew_data\u001B[0m \u001B[1;33m=\u001B[0m \u001B[0mself\u001B[0m\u001B[1;33m.\u001B[0m\u001B[0m_dispatch_frame_op\u001B[0m\u001B[1;33m(\u001B[0m\u001B[0mother\u001B[0m\u001B[1;33m,\u001B[0m \u001B[0mop\u001B[0m\u001B[1;33m,\u001B[0m \u001B[0maxis\u001B[0m\u001B[1;33m=\u001B[0m\u001B[0maxis\u001B[0m\u001B[1;33m)\u001B[0m\u001B[1;33m\u001B[0m\u001B[1;33m\u001B[0m\u001B[0m\n",
      "\u001B[1;32m~\\AppData\\Local\\Programs\\Python\\Python312\\Lib\\site-packages\\pandas\\core\\frame.py\u001B[0m in \u001B[0;36m?\u001B[1;34m(self, other, axis, flex, level)\u001B[0m\n\u001B[0;32m   8192\u001B[0m                     left, right = left.align(\n\u001B[0;32m   8193\u001B[0m                         \u001B[0mright\u001B[0m\u001B[1;33m,\u001B[0m \u001B[0mjoin\u001B[0m\u001B[1;33m=\u001B[0m\u001B[1;34m\"outer\"\u001B[0m\u001B[1;33m,\u001B[0m \u001B[0mlevel\u001B[0m\u001B[1;33m=\u001B[0m\u001B[0mlevel\u001B[0m\u001B[1;33m,\u001B[0m \u001B[0mcopy\u001B[0m\u001B[1;33m=\u001B[0m\u001B[1;32mFalse\u001B[0m\u001B[1;33m\u001B[0m\u001B[1;33m\u001B[0m\u001B[0m\n\u001B[0;32m   8194\u001B[0m                     \u001B[1;33m)\u001B[0m\u001B[1;33m\u001B[0m\u001B[1;33m\u001B[0m\u001B[0m\n\u001B[0;32m   8195\u001B[0m                 \u001B[1;32melse\u001B[0m\u001B[1;33m:\u001B[0m\u001B[1;33m\u001B[0m\u001B[1;33m\u001B[0m\u001B[0m\n\u001B[1;32m-> 8196\u001B[1;33m                     raise ValueError(\n\u001B[0m\u001B[0;32m   8197\u001B[0m                         \u001B[1;34m\"Can only compare identically-labeled (both index and columns) \"\u001B[0m\u001B[1;33m\u001B[0m\u001B[1;33m\u001B[0m\u001B[0m\n\u001B[0;32m   8198\u001B[0m                         \u001B[1;34m\"DataFrame objects\"\u001B[0m\u001B[1;33m\u001B[0m\u001B[1;33m\u001B[0m\u001B[0m\n\u001B[0;32m   8199\u001B[0m                     \u001B[1;33m)\u001B[0m\u001B[1;33m\u001B[0m\u001B[1;33m\u001B[0m\u001B[0m\n",
      "\u001B[1;31mValueError\u001B[0m: Can only compare identically-labeled (both index and columns) DataFrame objects"
     ]
    }
   ],
   "execution_count": 102
  },
  {
   "cell_type": "markdown",
   "source": [
    "## Propuesta de Valor"
   ],
   "metadata": {
    "id": "-c7F_UKvQ0Ir"
   }
  }
 ]
}
