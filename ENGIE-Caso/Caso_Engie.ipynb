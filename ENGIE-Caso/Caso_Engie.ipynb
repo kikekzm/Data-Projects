{
 "nbformat": 4,
 "nbformat_minor": 0,
 "metadata": {
  "colab": {
   "provenance": [],
   "authorship_tag": "ABX9TyMeuHKIB0wWW1Sx83WpXGTK",
   "include_colab_link": true
  },
  "kernelspec": {
   "name": "python3",
   "display_name": "Python 3 (ipykernel)",
   "language": "python"
  },
  "language_info": {
   "name": "python"
  }
 },
 "cells": [
  {
   "cell_type": "markdown",
   "source": [
    "# Caso Práctico - ENGIE\n",
    "\n",
    "*Jose Enrique Zafra Mena*"
   ],
   "metadata": {
    "id": "PBxKy7ZvQa7u"
   }
  },
  {
   "metadata": {},
   "cell_type": "markdown",
   "source": "## Introducción\n"
  },
  {
   "metadata": {},
   "cell_type": "markdown",
   "source": "## Carga de datos"
  },
  {
   "cell_type": "code",
   "metadata": {
    "id": "VR8r43K1pBpX",
    "ExecuteTime": {
     "end_time": "2024-06-22T14:36:42.499690Z",
     "start_time": "2024-06-22T14:36:42.496699Z"
    }
   },
   "source": [
    "import numpy as np\n",
    "import matplotlib.pyplot as plt\n",
    "import pandas as pd\n",
    "import openpyxl"
   ],
   "outputs": [],
   "execution_count": 57
  },
  {
   "cell_type": "code",
   "source": [
    "facturas_df=pd.read_excel('facturas.xlsx')\n",
    "mapping_df=pd.read_excel('Mapping.xlsx')\n",
    "\n",
    "# renombramos los Deals\n",
    "CTV_df=pd.read_excel('JVLNG_CTV_STOK_MARZO_2024_05_23_14_12.xlsx')\n",
    "IAC_df=pd.read_excel('MEDG2_IAC_GETRA_MARZO_2024_05_23_14_12.xlsx')\n",
    "AOC2_df=pd.read_excel('SUGS2_AOC_STOK_MARZO_2024_05_23_14_12.xlsx')\n",
    "AOC_df=pd.read_excel('SUGST_AOC_STOK_MARZO_2024_05_23_14_12.xlsx')\n"
   ],
   "metadata": {
    "id": "VNSztI0GQuQM",
    "ExecuteTime": {
     "end_time": "2024-06-22T14:36:42.623999Z",
     "start_time": "2024-06-22T14:36:42.534704Z"
    }
   },
   "outputs": [],
   "execution_count": 58
  },
  {
   "cell_type": "code",
   "source": "mapping_df.head()",
   "metadata": {
    "colab": {
     "base_uri": "https://localhost:8080/",
     "height": 1000
    },
    "id": "PeqJpMAPXydm",
    "outputId": "d56c79a3-8b36-4775-ffb4-979595917e7c",
    "ExecuteTime": {
     "end_time": "2024-06-22T14:36:42.629631Z",
     "start_time": "2024-06-22T14:36:42.625006Z"
    }
   },
   "outputs": [
    {
     "data": {
      "text/plain": [
       "         Origen Servicio facturado Portfolio Commodity DealType\n",
       "0  C.I. Almería        Entrada PVB     MEDG2       IAC    GETRA\n",
       "1           TVB            PLANTAS     JVLNG       ICC    GETRA\n",
       "2           TVB            PLANTAS     JVLNG       ICC    GETRA\n",
       "3           TVB            PLANTAS     JVLNG       ICC    GETRA\n",
       "4           TVB            PLANTAS     JVLNG       ICC    GETRA"
      ],
      "text/html": [
       "<div>\n",
       "<style scoped>\n",
       "    .dataframe tbody tr th:only-of-type {\n",
       "        vertical-align: middle;\n",
       "    }\n",
       "\n",
       "    .dataframe tbody tr th {\n",
       "        vertical-align: top;\n",
       "    }\n",
       "\n",
       "    .dataframe thead th {\n",
       "        text-align: right;\n",
       "    }\n",
       "</style>\n",
       "<table border=\"1\" class=\"dataframe\">\n",
       "  <thead>\n",
       "    <tr style=\"text-align: right;\">\n",
       "      <th></th>\n",
       "      <th>Origen</th>\n",
       "      <th>Servicio facturado</th>\n",
       "      <th>Portfolio</th>\n",
       "      <th>Commodity</th>\n",
       "      <th>DealType</th>\n",
       "    </tr>\n",
       "  </thead>\n",
       "  <tbody>\n",
       "    <tr>\n",
       "      <th>0</th>\n",
       "      <td>C.I. Almería</td>\n",
       "      <td>Entrada PVB</td>\n",
       "      <td>MEDG2</td>\n",
       "      <td>IAC</td>\n",
       "      <td>GETRA</td>\n",
       "    </tr>\n",
       "    <tr>\n",
       "      <th>1</th>\n",
       "      <td>TVB</td>\n",
       "      <td>PLANTAS</td>\n",
       "      <td>JVLNG</td>\n",
       "      <td>ICC</td>\n",
       "      <td>GETRA</td>\n",
       "    </tr>\n",
       "    <tr>\n",
       "      <th>2</th>\n",
       "      <td>TVB</td>\n",
       "      <td>PLANTAS</td>\n",
       "      <td>JVLNG</td>\n",
       "      <td>ICC</td>\n",
       "      <td>GETRA</td>\n",
       "    </tr>\n",
       "    <tr>\n",
       "      <th>3</th>\n",
       "      <td>TVB</td>\n",
       "      <td>PLANTAS</td>\n",
       "      <td>JVLNG</td>\n",
       "      <td>ICC</td>\n",
       "      <td>GETRA</td>\n",
       "    </tr>\n",
       "    <tr>\n",
       "      <th>4</th>\n",
       "      <td>TVB</td>\n",
       "      <td>PLANTAS</td>\n",
       "      <td>JVLNG</td>\n",
       "      <td>ICC</td>\n",
       "      <td>GETRA</td>\n",
       "    </tr>\n",
       "  </tbody>\n",
       "</table>\n",
       "</div>"
      ]
     },
     "execution_count": 59,
     "metadata": {},
     "output_type": "execute_result"
    }
   ],
   "execution_count": 59
  },
  {
   "metadata": {},
   "cell_type": "markdown",
   "source": ""
  },
  {
   "cell_type": "markdown",
   "source": "## Transformación de los datos\n",
   "metadata": {
    "id": "3BLfErtxQws0"
   }
  },
  {
   "metadata": {},
   "cell_type": "markdown",
   "source": [
    "### Mapping\n",
    "Quitamos los duplicados y todas las Commoditys que no necesitamos: nos quedamos solo con CTV, IAC, AOC."
   ]
  },
  {
   "metadata": {
    "ExecuteTime": {
     "end_time": "2024-06-22T14:36:42.640560Z",
     "start_time": "2024-06-22T14:36:42.629631Z"
    }
   },
   "cell_type": "code",
   "source": [
    "mapping_df=mapping_df.query(\"Commodity in ['CTV', 'IAC', 'AOC'] and Portfolio in ['MEDG2','JVLNG', 'SUGST', 'SUGS2']\").drop_duplicates()\n",
    "\n",
    "mapping_df.head(15)"
   ],
   "outputs": [
    {
     "data": {
      "text/plain": [
       "          Origen     Servicio facturado Portfolio Commodity DealType\n",
       "0   C.I. Almería            Entrada PVB     MEDG2       IAC    GETRA\n",
       "16           TVB     Almacenamiento TVB     JVLNG       CTV     STOK\n",
       "25           AVB  Servicio agregado AVB     SUGST       AOC     STOK\n",
       "26           AVB            ExtracciÃ³n     SUGST       AOC     STOK\n",
       "27           AVB       Salida PVB a AVB     SUGST       AOC     STOK\n",
       "28           AVB             InyecciÃ³n     SUGST       AOC     STOK\n",
       "29           AVB  Entrada PVB desde AVB     SUGST       AOC     STOK\n",
       "30           AVB     Almacenamiento AVB     SUGST       AOC     STOK\n",
       "31           AVB  Servicio agregado AVB     SUGS2       AOC     STOK\n",
       "32           AVB            ExtracciÃ³n     SUGS2       AOC     STOK\n",
       "33           AVB       Salida PVB a AVB     SUGS2       AOC     STOK\n",
       "34           AVB             InyecciÃ³n     SUGS2       AOC     STOK\n",
       "35           AVB  Entrada PVB desde AVB     SUGS2       AOC     STOK\n",
       "36           AVB     Almacenamiento AVB     SUGS2       AOC     STOK"
      ],
      "text/html": [
       "<div>\n",
       "<style scoped>\n",
       "    .dataframe tbody tr th:only-of-type {\n",
       "        vertical-align: middle;\n",
       "    }\n",
       "\n",
       "    .dataframe tbody tr th {\n",
       "        vertical-align: top;\n",
       "    }\n",
       "\n",
       "    .dataframe thead th {\n",
       "        text-align: right;\n",
       "    }\n",
       "</style>\n",
       "<table border=\"1\" class=\"dataframe\">\n",
       "  <thead>\n",
       "    <tr style=\"text-align: right;\">\n",
       "      <th></th>\n",
       "      <th>Origen</th>\n",
       "      <th>Servicio facturado</th>\n",
       "      <th>Portfolio</th>\n",
       "      <th>Commodity</th>\n",
       "      <th>DealType</th>\n",
       "    </tr>\n",
       "  </thead>\n",
       "  <tbody>\n",
       "    <tr>\n",
       "      <th>0</th>\n",
       "      <td>C.I. Almería</td>\n",
       "      <td>Entrada PVB</td>\n",
       "      <td>MEDG2</td>\n",
       "      <td>IAC</td>\n",
       "      <td>GETRA</td>\n",
       "    </tr>\n",
       "    <tr>\n",
       "      <th>16</th>\n",
       "      <td>TVB</td>\n",
       "      <td>Almacenamiento TVB</td>\n",
       "      <td>JVLNG</td>\n",
       "      <td>CTV</td>\n",
       "      <td>STOK</td>\n",
       "    </tr>\n",
       "    <tr>\n",
       "      <th>25</th>\n",
       "      <td>AVB</td>\n",
       "      <td>Servicio agregado AVB</td>\n",
       "      <td>SUGST</td>\n",
       "      <td>AOC</td>\n",
       "      <td>STOK</td>\n",
       "    </tr>\n",
       "    <tr>\n",
       "      <th>26</th>\n",
       "      <td>AVB</td>\n",
       "      <td>ExtracciÃ³n</td>\n",
       "      <td>SUGST</td>\n",
       "      <td>AOC</td>\n",
       "      <td>STOK</td>\n",
       "    </tr>\n",
       "    <tr>\n",
       "      <th>27</th>\n",
       "      <td>AVB</td>\n",
       "      <td>Salida PVB a AVB</td>\n",
       "      <td>SUGST</td>\n",
       "      <td>AOC</td>\n",
       "      <td>STOK</td>\n",
       "    </tr>\n",
       "    <tr>\n",
       "      <th>28</th>\n",
       "      <td>AVB</td>\n",
       "      <td>InyecciÃ³n</td>\n",
       "      <td>SUGST</td>\n",
       "      <td>AOC</td>\n",
       "      <td>STOK</td>\n",
       "    </tr>\n",
       "    <tr>\n",
       "      <th>29</th>\n",
       "      <td>AVB</td>\n",
       "      <td>Entrada PVB desde AVB</td>\n",
       "      <td>SUGST</td>\n",
       "      <td>AOC</td>\n",
       "      <td>STOK</td>\n",
       "    </tr>\n",
       "    <tr>\n",
       "      <th>30</th>\n",
       "      <td>AVB</td>\n",
       "      <td>Almacenamiento AVB</td>\n",
       "      <td>SUGST</td>\n",
       "      <td>AOC</td>\n",
       "      <td>STOK</td>\n",
       "    </tr>\n",
       "    <tr>\n",
       "      <th>31</th>\n",
       "      <td>AVB</td>\n",
       "      <td>Servicio agregado AVB</td>\n",
       "      <td>SUGS2</td>\n",
       "      <td>AOC</td>\n",
       "      <td>STOK</td>\n",
       "    </tr>\n",
       "    <tr>\n",
       "      <th>32</th>\n",
       "      <td>AVB</td>\n",
       "      <td>ExtracciÃ³n</td>\n",
       "      <td>SUGS2</td>\n",
       "      <td>AOC</td>\n",
       "      <td>STOK</td>\n",
       "    </tr>\n",
       "    <tr>\n",
       "      <th>33</th>\n",
       "      <td>AVB</td>\n",
       "      <td>Salida PVB a AVB</td>\n",
       "      <td>SUGS2</td>\n",
       "      <td>AOC</td>\n",
       "      <td>STOK</td>\n",
       "    </tr>\n",
       "    <tr>\n",
       "      <th>34</th>\n",
       "      <td>AVB</td>\n",
       "      <td>InyecciÃ³n</td>\n",
       "      <td>SUGS2</td>\n",
       "      <td>AOC</td>\n",
       "      <td>STOK</td>\n",
       "    </tr>\n",
       "    <tr>\n",
       "      <th>35</th>\n",
       "      <td>AVB</td>\n",
       "      <td>Entrada PVB desde AVB</td>\n",
       "      <td>SUGS2</td>\n",
       "      <td>AOC</td>\n",
       "      <td>STOK</td>\n",
       "    </tr>\n",
       "    <tr>\n",
       "      <th>36</th>\n",
       "      <td>AVB</td>\n",
       "      <td>Almacenamiento AVB</td>\n",
       "      <td>SUGS2</td>\n",
       "      <td>AOC</td>\n",
       "      <td>STOK</td>\n",
       "    </tr>\n",
       "  </tbody>\n",
       "</table>\n",
       "</div>"
      ]
     },
     "execution_count": 60,
     "metadata": {},
     "output_type": "execute_result"
    }
   ],
   "execution_count": 60
  },
  {
   "metadata": {},
   "cell_type": "markdown",
   "source": [
    "### Facturas\n",
    "Quitamos columnas que no son relevantes, ajustamos formato de las fechas, y reordenamos columnas:"
   ]
  },
  {
   "metadata": {
    "ExecuteTime": {
     "end_time": "2024-06-22T14:36:42.649753Z",
     "start_time": "2024-06-22T14:36:42.640560Z"
    }
   },
   "cell_type": "code",
   "source": [
    "mapping_df.rename(columns={'Servicio facturado': 'Servicio Facturado'}, inplace=True)\n",
    "\n",
    "facturas_new_df = facturas_df.loc[:, ['NumeroFactura', 'Importe', 'FechaFactura', 'Origen', 'ServicioFacturado']]\n",
    "\n",
    "facturas_new_df.rename(columns={'NumeroFactura': 'Número de Factura', 'Importe':'Importe Factura', 'FechaFactura':'Fecha Factura',\n",
    "                                'ServicioFacturado':'Servicio Facturado'}, inplace=True)\n",
    "\n",
    "facturas_new_df['Fecha Factura'] = pd.to_datetime(facturas_new_df['Fecha Factura'], format=\"%d/%m/%y\")\n",
    "\n",
    "facturas_new_df['Fecha Factura 2'] = facturas_new_df['Fecha Factura'].dt.strftime('%d/%m/%Y') # con esto dejan de ser datetime64, pero es mejor para verlo directamente\n",
    "\n",
    "facturas_new_df.head()"
   ],
   "outputs": [
    {
     "data": {
      "text/plain": [
       "   Número de Factura  Importe Factura Fecha Factura        Origen  \\\n",
       "0         2024264672        123195.13    2024-03-04           AVB   \n",
       "1         2024264671        111963.62    2024-03-04           AVB   \n",
       "2         2324004231        503763.47    2024-03-06  C.I. Almería   \n",
       "3         2024164592          1375.12    2024-03-04           TVB   \n",
       "4         2024164591          1787.43    2024-03-04           TVB   \n",
       "\n",
       "      Servicio Facturado Fecha Factura 2  \n",
       "0  Servicio agregado AVB      04/03/2024  \n",
       "1  Servicio agregado AVB      04/03/2024  \n",
       "2            Entrada PVB      06/03/2024  \n",
       "3     Almacenamiento TVB      04/03/2024  \n",
       "4     Almacenamiento TVB      04/03/2024  "
      ],
      "text/html": [
       "<div>\n",
       "<style scoped>\n",
       "    .dataframe tbody tr th:only-of-type {\n",
       "        vertical-align: middle;\n",
       "    }\n",
       "\n",
       "    .dataframe tbody tr th {\n",
       "        vertical-align: top;\n",
       "    }\n",
       "\n",
       "    .dataframe thead th {\n",
       "        text-align: right;\n",
       "    }\n",
       "</style>\n",
       "<table border=\"1\" class=\"dataframe\">\n",
       "  <thead>\n",
       "    <tr style=\"text-align: right;\">\n",
       "      <th></th>\n",
       "      <th>Número de Factura</th>\n",
       "      <th>Importe Factura</th>\n",
       "      <th>Fecha Factura</th>\n",
       "      <th>Origen</th>\n",
       "      <th>Servicio Facturado</th>\n",
       "      <th>Fecha Factura 2</th>\n",
       "    </tr>\n",
       "  </thead>\n",
       "  <tbody>\n",
       "    <tr>\n",
       "      <th>0</th>\n",
       "      <td>2024264672</td>\n",
       "      <td>123195.13</td>\n",
       "      <td>2024-03-04</td>\n",
       "      <td>AVB</td>\n",
       "      <td>Servicio agregado AVB</td>\n",
       "      <td>04/03/2024</td>\n",
       "    </tr>\n",
       "    <tr>\n",
       "      <th>1</th>\n",
       "      <td>2024264671</td>\n",
       "      <td>111963.62</td>\n",
       "      <td>2024-03-04</td>\n",
       "      <td>AVB</td>\n",
       "      <td>Servicio agregado AVB</td>\n",
       "      <td>04/03/2024</td>\n",
       "    </tr>\n",
       "    <tr>\n",
       "      <th>2</th>\n",
       "      <td>2324004231</td>\n",
       "      <td>503763.47</td>\n",
       "      <td>2024-03-06</td>\n",
       "      <td>C.I. Almería</td>\n",
       "      <td>Entrada PVB</td>\n",
       "      <td>06/03/2024</td>\n",
       "    </tr>\n",
       "    <tr>\n",
       "      <th>3</th>\n",
       "      <td>2024164592</td>\n",
       "      <td>1375.12</td>\n",
       "      <td>2024-03-04</td>\n",
       "      <td>TVB</td>\n",
       "      <td>Almacenamiento TVB</td>\n",
       "      <td>04/03/2024</td>\n",
       "    </tr>\n",
       "    <tr>\n",
       "      <th>4</th>\n",
       "      <td>2024164591</td>\n",
       "      <td>1787.43</td>\n",
       "      <td>2024-03-04</td>\n",
       "      <td>TVB</td>\n",
       "      <td>Almacenamiento TVB</td>\n",
       "      <td>04/03/2024</td>\n",
       "    </tr>\n",
       "  </tbody>\n",
       "</table>\n",
       "</div>"
      ]
     },
     "execution_count": 61,
     "metadata": {},
     "output_type": "execute_result"
    }
   ],
   "execution_count": 61
  },
  {
   "metadata": {},
   "cell_type": "markdown",
   "source": [
    "### Deals\n",
    "Los Deals tienen columnas que no necesitamos para la conciliación. Necesitamos solo algo que lo identifique (ID), su importe y una categoría"
   ]
  },
  {
   "metadata": {
    "ExecuteTime": {
     "end_time": "2024-06-22T14:36:42.657183Z",
     "start_time": "2024-06-22T14:36:42.649753Z"
    }
   },
   "cell_type": "code",
   "source": [
    "# para renombrar las columnas, usamos las columnas de CTV\n",
    "CTV_min_df = CTV_df.loc[:,['Id', 'TotalQuantity', 'TradeDate', 'CommodityType']]\n",
    "\n",
    "# renombramos\n",
    "CTV_min_df.rename(columns={'TotalQuantity':'Quantity'} , inplace=True)\n",
    "\n",
    "# ahora escogemos las columnas que queremos de cada Deal\n",
    "IAC_min_df = IAC_df.loc[:,['Id', 'Quantity', 'TradeDate', 'CommodityType']]\n",
    "AOC_min_df = AOC_df.loc[:,['Id', 'Quantity', 'TradeDate', 'CommodityType']]\n",
    "AOC2_min_df = AOC2_df.loc[:,['Id', 'Quantity', 'TradeDate', 'CommodityType']]\n"
   ],
   "outputs": [],
   "execution_count": 62
  },
  {
   "metadata": {},
   "cell_type": "markdown",
   "source": [
    "Vamos a conectar el Mapping con cada Deal, ya que queremos comparar con las facturas.\n",
    "\n",
    "Para conectar Mapping con CTV usamos Commodity==CTV\n",
    "\n",
    "Para conectar Mapping con IAC usamos Commodity==IAC\n",
    "\n",
    "Para conectar Mapping con AOC usamos Commodity==AOC & Portofolio: SUGST\n",
    "\n",
    "Para conectar Mapping con AOC2 usamos Commodity==AOC & Portofolio: SUGS2\n"
   ]
  },
  {
   "metadata": {
    "ExecuteTime": {
     "end_time": "2024-06-22T14:36:42.666713Z",
     "start_time": "2024-06-22T14:36:42.657183Z"
    }
   },
   "cell_type": "code",
   "source": [
    "# Añadimos las columnas de Portfolio y Commodity correspondientes \n",
    "# en los Deals para poder relacionarlos con el Mapping\n",
    "\n",
    "CTV_min_df['Portfolio']='JVLNG'\n",
    "CTV_min_df['Commodity']='CTV'\n",
    "\n",
    "\n",
    "IAC_min_df['Portfolio']='MEDG2'\n",
    "IAC_min_df['Commodity']='IAC'\n",
    "\n",
    "AOC_min_df['Portfolio']='SUGST'\n",
    "AOC_min_df['Commodity']='AOC'\n",
    "\n",
    "AOC2_min_df['Portfolio']='SUGS2'\n",
    "AOC2_min_df['Commodity']='AOC'\n",
    "\n",
    "AOC_min_df.head()"
   ],
   "outputs": [
    {
     "data": {
      "text/plain": [
       "         Id    Quantity                  TradeDate CommodityType Portfolio  \\\n",
       "0  41888250  800000.000  2024-02-22T00:00:00+01:00            EG     SUGST   \n",
       "1  38290460     924.588  2023-04-20T00:00:00+02:00            EG     SUGST   \n",
       "2  38249489     352.340  2023-04-17T00:00:00+02:00            EG     SUGST   \n",
       "3  38054569    3910.694  2023-03-24T00:00:00+01:00            EG     SUGST   \n",
       "4  36525979  800000.000  2022-11-16T00:00:00+01:00            EG     SUGST   \n",
       "\n",
       "  Commodity  \n",
       "0       AOC  \n",
       "1       AOC  \n",
       "2       AOC  \n",
       "3       AOC  \n",
       "4       AOC  "
      ],
      "text/html": [
       "<div>\n",
       "<style scoped>\n",
       "    .dataframe tbody tr th:only-of-type {\n",
       "        vertical-align: middle;\n",
       "    }\n",
       "\n",
       "    .dataframe tbody tr th {\n",
       "        vertical-align: top;\n",
       "    }\n",
       "\n",
       "    .dataframe thead th {\n",
       "        text-align: right;\n",
       "    }\n",
       "</style>\n",
       "<table border=\"1\" class=\"dataframe\">\n",
       "  <thead>\n",
       "    <tr style=\"text-align: right;\">\n",
       "      <th></th>\n",
       "      <th>Id</th>\n",
       "      <th>Quantity</th>\n",
       "      <th>TradeDate</th>\n",
       "      <th>CommodityType</th>\n",
       "      <th>Portfolio</th>\n",
       "      <th>Commodity</th>\n",
       "    </tr>\n",
       "  </thead>\n",
       "  <tbody>\n",
       "    <tr>\n",
       "      <th>0</th>\n",
       "      <td>41888250</td>\n",
       "      <td>800000.000</td>\n",
       "      <td>2024-02-22T00:00:00+01:00</td>\n",
       "      <td>EG</td>\n",
       "      <td>SUGST</td>\n",
       "      <td>AOC</td>\n",
       "    </tr>\n",
       "    <tr>\n",
       "      <th>1</th>\n",
       "      <td>38290460</td>\n",
       "      <td>924.588</td>\n",
       "      <td>2023-04-20T00:00:00+02:00</td>\n",
       "      <td>EG</td>\n",
       "      <td>SUGST</td>\n",
       "      <td>AOC</td>\n",
       "    </tr>\n",
       "    <tr>\n",
       "      <th>2</th>\n",
       "      <td>38249489</td>\n",
       "      <td>352.340</td>\n",
       "      <td>2023-04-17T00:00:00+02:00</td>\n",
       "      <td>EG</td>\n",
       "      <td>SUGST</td>\n",
       "      <td>AOC</td>\n",
       "    </tr>\n",
       "    <tr>\n",
       "      <th>3</th>\n",
       "      <td>38054569</td>\n",
       "      <td>3910.694</td>\n",
       "      <td>2023-03-24T00:00:00+01:00</td>\n",
       "      <td>EG</td>\n",
       "      <td>SUGST</td>\n",
       "      <td>AOC</td>\n",
       "    </tr>\n",
       "    <tr>\n",
       "      <th>4</th>\n",
       "      <td>36525979</td>\n",
       "      <td>800000.000</td>\n",
       "      <td>2022-11-16T00:00:00+01:00</td>\n",
       "      <td>EG</td>\n",
       "      <td>SUGST</td>\n",
       "      <td>AOC</td>\n",
       "    </tr>\n",
       "  </tbody>\n",
       "</table>\n",
       "</div>"
      ]
     },
     "execution_count": 63,
     "metadata": {},
     "output_type": "execute_result"
    }
   ],
   "execution_count": 63
  },
  {
   "metadata": {},
   "cell_type": "markdown",
   "source": "#### Unión de los *Deals*"
  },
  {
   "metadata": {
    "ExecuteTime": {
     "end_time": "2024-06-22T14:36:42.676464Z",
     "start_time": "2024-06-22T14:36:42.666713Z"
    }
   },
   "cell_type": "code",
   "source": [
    "# ahora unimos todos los deals en un solo dataframe \n",
    "deals_df=pd.concat([CTV_min_df, IAC_min_df, AOC_min_df, AOC2_min_df], ignore_index=True)\n",
    "\n",
    "# cambiamos el formato de fecha\n",
    "deals_df['TradeDate'] = (pd.to_datetime(deals_df['TradeDate'], utc=True ,dayfirst=False, format='%Y-%m-%dT%H:%M:%S%z'))\n",
    "\n",
    "# cambiamos el nombre de la columna\n",
    "deals_df.rename(columns={'TradeDate':'Fecha Deal'} , inplace=True)\n",
    "\n",
    "deals_df.head(100)"
   ],
   "outputs": [
    {
     "data": {
      "text/plain": [
       "          Id  Quantity                Fecha Deal CommodityType Portfolio  \\\n",
       "0   42563586   90000.0 2024-04-28 22:00:00+00:00            EG     JVLNG   \n",
       "1   42518127   50000.0 2024-04-24 22:00:00+00:00            EG     JVLNG   \n",
       "2   42518126   50000.0 2024-04-24 22:00:00+00:00            EG     JVLNG   \n",
       "3   42518125   50000.0 2024-04-24 22:00:00+00:00            EG     JVLNG   \n",
       "4   42518124   50000.0 2024-04-24 22:00:00+00:00            EG     JVLNG   \n",
       "..       ...       ...                       ...           ...       ...   \n",
       "58  37671348     900.0 2023-02-21 23:00:00+00:00            EG     SUGS2   \n",
       "59  37356869  400000.0 2022-11-20 23:00:00+00:00            EG     SUGS2   \n",
       "60  37186479  100000.0 2023-01-11 23:00:00+00:00            EG     SUGS2   \n",
       "61  36876402  100000.0 2022-12-18 23:00:00+00:00            EG     SUGS2   \n",
       "62  36572988  100000.0 2022-11-20 23:00:00+00:00            EG     SUGS2   \n",
       "\n",
       "   Commodity  \n",
       "0        CTV  \n",
       "1        CTV  \n",
       "2        CTV  \n",
       "3        CTV  \n",
       "4        CTV  \n",
       "..       ...  \n",
       "58       AOC  \n",
       "59       AOC  \n",
       "60       AOC  \n",
       "61       AOC  \n",
       "62       AOC  \n",
       "\n",
       "[63 rows x 6 columns]"
      ],
      "text/html": [
       "<div>\n",
       "<style scoped>\n",
       "    .dataframe tbody tr th:only-of-type {\n",
       "        vertical-align: middle;\n",
       "    }\n",
       "\n",
       "    .dataframe tbody tr th {\n",
       "        vertical-align: top;\n",
       "    }\n",
       "\n",
       "    .dataframe thead th {\n",
       "        text-align: right;\n",
       "    }\n",
       "</style>\n",
       "<table border=\"1\" class=\"dataframe\">\n",
       "  <thead>\n",
       "    <tr style=\"text-align: right;\">\n",
       "      <th></th>\n",
       "      <th>Id</th>\n",
       "      <th>Quantity</th>\n",
       "      <th>Fecha Deal</th>\n",
       "      <th>CommodityType</th>\n",
       "      <th>Portfolio</th>\n",
       "      <th>Commodity</th>\n",
       "    </tr>\n",
       "  </thead>\n",
       "  <tbody>\n",
       "    <tr>\n",
       "      <th>0</th>\n",
       "      <td>42563586</td>\n",
       "      <td>90000.0</td>\n",
       "      <td>2024-04-28 22:00:00+00:00</td>\n",
       "      <td>EG</td>\n",
       "      <td>JVLNG</td>\n",
       "      <td>CTV</td>\n",
       "    </tr>\n",
       "    <tr>\n",
       "      <th>1</th>\n",
       "      <td>42518127</td>\n",
       "      <td>50000.0</td>\n",
       "      <td>2024-04-24 22:00:00+00:00</td>\n",
       "      <td>EG</td>\n",
       "      <td>JVLNG</td>\n",
       "      <td>CTV</td>\n",
       "    </tr>\n",
       "    <tr>\n",
       "      <th>2</th>\n",
       "      <td>42518126</td>\n",
       "      <td>50000.0</td>\n",
       "      <td>2024-04-24 22:00:00+00:00</td>\n",
       "      <td>EG</td>\n",
       "      <td>JVLNG</td>\n",
       "      <td>CTV</td>\n",
       "    </tr>\n",
       "    <tr>\n",
       "      <th>3</th>\n",
       "      <td>42518125</td>\n",
       "      <td>50000.0</td>\n",
       "      <td>2024-04-24 22:00:00+00:00</td>\n",
       "      <td>EG</td>\n",
       "      <td>JVLNG</td>\n",
       "      <td>CTV</td>\n",
       "    </tr>\n",
       "    <tr>\n",
       "      <th>4</th>\n",
       "      <td>42518124</td>\n",
       "      <td>50000.0</td>\n",
       "      <td>2024-04-24 22:00:00+00:00</td>\n",
       "      <td>EG</td>\n",
       "      <td>JVLNG</td>\n",
       "      <td>CTV</td>\n",
       "    </tr>\n",
       "    <tr>\n",
       "      <th>...</th>\n",
       "      <td>...</td>\n",
       "      <td>...</td>\n",
       "      <td>...</td>\n",
       "      <td>...</td>\n",
       "      <td>...</td>\n",
       "      <td>...</td>\n",
       "    </tr>\n",
       "    <tr>\n",
       "      <th>58</th>\n",
       "      <td>37671348</td>\n",
       "      <td>900.0</td>\n",
       "      <td>2023-02-21 23:00:00+00:00</td>\n",
       "      <td>EG</td>\n",
       "      <td>SUGS2</td>\n",
       "      <td>AOC</td>\n",
       "    </tr>\n",
       "    <tr>\n",
       "      <th>59</th>\n",
       "      <td>37356869</td>\n",
       "      <td>400000.0</td>\n",
       "      <td>2022-11-20 23:00:00+00:00</td>\n",
       "      <td>EG</td>\n",
       "      <td>SUGS2</td>\n",
       "      <td>AOC</td>\n",
       "    </tr>\n",
       "    <tr>\n",
       "      <th>60</th>\n",
       "      <td>37186479</td>\n",
       "      <td>100000.0</td>\n",
       "      <td>2023-01-11 23:00:00+00:00</td>\n",
       "      <td>EG</td>\n",
       "      <td>SUGS2</td>\n",
       "      <td>AOC</td>\n",
       "    </tr>\n",
       "    <tr>\n",
       "      <th>61</th>\n",
       "      <td>36876402</td>\n",
       "      <td>100000.0</td>\n",
       "      <td>2022-12-18 23:00:00+00:00</td>\n",
       "      <td>EG</td>\n",
       "      <td>SUGS2</td>\n",
       "      <td>AOC</td>\n",
       "    </tr>\n",
       "    <tr>\n",
       "      <th>62</th>\n",
       "      <td>36572988</td>\n",
       "      <td>100000.0</td>\n",
       "      <td>2022-11-20 23:00:00+00:00</td>\n",
       "      <td>EG</td>\n",
       "      <td>SUGS2</td>\n",
       "      <td>AOC</td>\n",
       "    </tr>\n",
       "  </tbody>\n",
       "</table>\n",
       "<p>63 rows × 6 columns</p>\n",
       "</div>"
      ]
     },
     "execution_count": 64,
     "metadata": {},
     "output_type": "execute_result"
    }
   ],
   "execution_count": 64
  },
  {
   "metadata": {},
   "cell_type": "markdown",
   "source": "#### Merge con mapping"
  },
  {
   "metadata": {
    "ExecuteTime": {
     "end_time": "2024-06-22T14:36:42.685008Z",
     "start_time": "2024-06-22T14:36:42.676980Z"
    }
   },
   "cell_type": "code",
   "source": [
    "# ahora unimos cada uno con mapping\n",
    "deals_mapped_df = (pd.merge(deals_df, mapping_df,on=['Portfolio', 'Commodity'], how='inner').drop_duplicates())\n",
    "\n",
    "test=deals_mapped_df.shape[0]-deals_df.shape[0]\n",
    "\n",
    "print('deals añadidos:',test)\n",
    "\n",
    "#deals_mapped_df.head(1000)\n",
    "deals_mapped_df.head(160)\n",
    "\n",
    "## SALEN DE MÁS PORQUE LA RELACIÓN NO ES ÚNICA, PARA UN MISMO CANAL (PORTOFOLIO+COMMODITY), \n",
    "## HAY DISTINTOS SERVICIOS FACTURADOS           "
   ],
   "outputs": [
    {
     "name": "stdout",
     "output_type": "stream",
     "text": [
      "deals añadidos: 95\n"
     ]
    },
    {
     "data": {
      "text/plain": [
       "           Id  Quantity                Fecha Deal CommodityType Portfolio  \\\n",
       "0    42563586   90000.0 2024-04-28 22:00:00+00:00            EG     JVLNG   \n",
       "1    42518127   50000.0 2024-04-24 22:00:00+00:00            EG     JVLNG   \n",
       "2    42518126   50000.0 2024-04-24 22:00:00+00:00            EG     JVLNG   \n",
       "3    42518125   50000.0 2024-04-24 22:00:00+00:00            EG     JVLNG   \n",
       "4    42518124   50000.0 2024-04-24 22:00:00+00:00            EG     JVLNG   \n",
       "..        ...       ...                       ...           ...       ...   \n",
       "153  36572988  100000.0 2022-11-20 23:00:00+00:00            EG     SUGS2   \n",
       "154  36572988  100000.0 2022-11-20 23:00:00+00:00            EG     SUGS2   \n",
       "155  36572988  100000.0 2022-11-20 23:00:00+00:00            EG     SUGS2   \n",
       "156  36572988  100000.0 2022-11-20 23:00:00+00:00            EG     SUGS2   \n",
       "157  36572988  100000.0 2022-11-20 23:00:00+00:00            EG     SUGS2   \n",
       "\n",
       "    Commodity Origen     Servicio Facturado DealType  \n",
       "0         CTV    TVB     Almacenamiento TVB     STOK  \n",
       "1         CTV    TVB     Almacenamiento TVB     STOK  \n",
       "2         CTV    TVB     Almacenamiento TVB     STOK  \n",
       "3         CTV    TVB     Almacenamiento TVB     STOK  \n",
       "4         CTV    TVB     Almacenamiento TVB     STOK  \n",
       "..        ...    ...                    ...      ...  \n",
       "153       AOC    AVB            ExtracciÃ³n     STOK  \n",
       "154       AOC    AVB       Salida PVB a AVB     STOK  \n",
       "155       AOC    AVB             InyecciÃ³n     STOK  \n",
       "156       AOC    AVB  Entrada PVB desde AVB     STOK  \n",
       "157       AOC    AVB     Almacenamiento AVB     STOK  \n",
       "\n",
       "[158 rows x 9 columns]"
      ],
      "text/html": [
       "<div>\n",
       "<style scoped>\n",
       "    .dataframe tbody tr th:only-of-type {\n",
       "        vertical-align: middle;\n",
       "    }\n",
       "\n",
       "    .dataframe tbody tr th {\n",
       "        vertical-align: top;\n",
       "    }\n",
       "\n",
       "    .dataframe thead th {\n",
       "        text-align: right;\n",
       "    }\n",
       "</style>\n",
       "<table border=\"1\" class=\"dataframe\">\n",
       "  <thead>\n",
       "    <tr style=\"text-align: right;\">\n",
       "      <th></th>\n",
       "      <th>Id</th>\n",
       "      <th>Quantity</th>\n",
       "      <th>Fecha Deal</th>\n",
       "      <th>CommodityType</th>\n",
       "      <th>Portfolio</th>\n",
       "      <th>Commodity</th>\n",
       "      <th>Origen</th>\n",
       "      <th>Servicio Facturado</th>\n",
       "      <th>DealType</th>\n",
       "    </tr>\n",
       "  </thead>\n",
       "  <tbody>\n",
       "    <tr>\n",
       "      <th>0</th>\n",
       "      <td>42563586</td>\n",
       "      <td>90000.0</td>\n",
       "      <td>2024-04-28 22:00:00+00:00</td>\n",
       "      <td>EG</td>\n",
       "      <td>JVLNG</td>\n",
       "      <td>CTV</td>\n",
       "      <td>TVB</td>\n",
       "      <td>Almacenamiento TVB</td>\n",
       "      <td>STOK</td>\n",
       "    </tr>\n",
       "    <tr>\n",
       "      <th>1</th>\n",
       "      <td>42518127</td>\n",
       "      <td>50000.0</td>\n",
       "      <td>2024-04-24 22:00:00+00:00</td>\n",
       "      <td>EG</td>\n",
       "      <td>JVLNG</td>\n",
       "      <td>CTV</td>\n",
       "      <td>TVB</td>\n",
       "      <td>Almacenamiento TVB</td>\n",
       "      <td>STOK</td>\n",
       "    </tr>\n",
       "    <tr>\n",
       "      <th>2</th>\n",
       "      <td>42518126</td>\n",
       "      <td>50000.0</td>\n",
       "      <td>2024-04-24 22:00:00+00:00</td>\n",
       "      <td>EG</td>\n",
       "      <td>JVLNG</td>\n",
       "      <td>CTV</td>\n",
       "      <td>TVB</td>\n",
       "      <td>Almacenamiento TVB</td>\n",
       "      <td>STOK</td>\n",
       "    </tr>\n",
       "    <tr>\n",
       "      <th>3</th>\n",
       "      <td>42518125</td>\n",
       "      <td>50000.0</td>\n",
       "      <td>2024-04-24 22:00:00+00:00</td>\n",
       "      <td>EG</td>\n",
       "      <td>JVLNG</td>\n",
       "      <td>CTV</td>\n",
       "      <td>TVB</td>\n",
       "      <td>Almacenamiento TVB</td>\n",
       "      <td>STOK</td>\n",
       "    </tr>\n",
       "    <tr>\n",
       "      <th>4</th>\n",
       "      <td>42518124</td>\n",
       "      <td>50000.0</td>\n",
       "      <td>2024-04-24 22:00:00+00:00</td>\n",
       "      <td>EG</td>\n",
       "      <td>JVLNG</td>\n",
       "      <td>CTV</td>\n",
       "      <td>TVB</td>\n",
       "      <td>Almacenamiento TVB</td>\n",
       "      <td>STOK</td>\n",
       "    </tr>\n",
       "    <tr>\n",
       "      <th>...</th>\n",
       "      <td>...</td>\n",
       "      <td>...</td>\n",
       "      <td>...</td>\n",
       "      <td>...</td>\n",
       "      <td>...</td>\n",
       "      <td>...</td>\n",
       "      <td>...</td>\n",
       "      <td>...</td>\n",
       "      <td>...</td>\n",
       "    </tr>\n",
       "    <tr>\n",
       "      <th>153</th>\n",
       "      <td>36572988</td>\n",
       "      <td>100000.0</td>\n",
       "      <td>2022-11-20 23:00:00+00:00</td>\n",
       "      <td>EG</td>\n",
       "      <td>SUGS2</td>\n",
       "      <td>AOC</td>\n",
       "      <td>AVB</td>\n",
       "      <td>ExtracciÃ³n</td>\n",
       "      <td>STOK</td>\n",
       "    </tr>\n",
       "    <tr>\n",
       "      <th>154</th>\n",
       "      <td>36572988</td>\n",
       "      <td>100000.0</td>\n",
       "      <td>2022-11-20 23:00:00+00:00</td>\n",
       "      <td>EG</td>\n",
       "      <td>SUGS2</td>\n",
       "      <td>AOC</td>\n",
       "      <td>AVB</td>\n",
       "      <td>Salida PVB a AVB</td>\n",
       "      <td>STOK</td>\n",
       "    </tr>\n",
       "    <tr>\n",
       "      <th>155</th>\n",
       "      <td>36572988</td>\n",
       "      <td>100000.0</td>\n",
       "      <td>2022-11-20 23:00:00+00:00</td>\n",
       "      <td>EG</td>\n",
       "      <td>SUGS2</td>\n",
       "      <td>AOC</td>\n",
       "      <td>AVB</td>\n",
       "      <td>InyecciÃ³n</td>\n",
       "      <td>STOK</td>\n",
       "    </tr>\n",
       "    <tr>\n",
       "      <th>156</th>\n",
       "      <td>36572988</td>\n",
       "      <td>100000.0</td>\n",
       "      <td>2022-11-20 23:00:00+00:00</td>\n",
       "      <td>EG</td>\n",
       "      <td>SUGS2</td>\n",
       "      <td>AOC</td>\n",
       "      <td>AVB</td>\n",
       "      <td>Entrada PVB desde AVB</td>\n",
       "      <td>STOK</td>\n",
       "    </tr>\n",
       "    <tr>\n",
       "      <th>157</th>\n",
       "      <td>36572988</td>\n",
       "      <td>100000.0</td>\n",
       "      <td>2022-11-20 23:00:00+00:00</td>\n",
       "      <td>EG</td>\n",
       "      <td>SUGS2</td>\n",
       "      <td>AOC</td>\n",
       "      <td>AVB</td>\n",
       "      <td>Almacenamiento AVB</td>\n",
       "      <td>STOK</td>\n",
       "    </tr>\n",
       "  </tbody>\n",
       "</table>\n",
       "<p>158 rows × 9 columns</p>\n",
       "</div>"
      ]
     },
     "execution_count": 65,
     "metadata": {},
     "output_type": "execute_result"
    }
   ],
   "execution_count": 65
  },
  {
   "metadata": {},
   "cell_type": "markdown",
   "source": "## Análisis de los datos"
  },
  {
   "metadata": {
    "ExecuteTime": {
     "end_time": "2024-06-22T14:36:42.689173Z",
     "start_time": "2024-06-22T14:36:42.685008Z"
    }
   },
   "cell_type": "code",
   "source": [
    "#### BORRAR DESPUES\n",
    "\n",
    "# Verificar duplicados en los dataframes\n",
    "facturas_duplicates = facturas_new_df.duplicated().sum()\n",
    "mapping_duplicates = mapping_df.duplicated().sum()\n",
    "deals_duplicates = deals_df.duplicated().sum()\n",
    "\n",
    "print(facturas_duplicates, mapping_duplicates, deals_duplicates)\n"
   ],
   "outputs": [
    {
     "name": "stdout",
     "output_type": "stream",
     "text": [
      "0 0 0\n"
     ]
    }
   ],
   "execution_count": 66
  },
  {
   "metadata": {},
   "cell_type": "markdown",
   "source": "### Facturas"
  },
  {
   "metadata": {
    "ExecuteTime": {
     "end_time": "2024-06-22T14:36:42.696146Z",
     "start_time": "2024-06-22T14:36:42.689677Z"
    }
   },
   "cell_type": "code",
   "source": [
    "# Número total de facturas\n",
    "numero_total_facturas = facturas_new_df['Número de Factura'].count()\n",
    "print('Número total de facturas: ',numero_total_facturas)\n",
    "# Importe total de facturas \n",
    "importe_total_facturas = facturas_new_df['Importe Factura'].sum()\n",
    "print('Importe total de facturas: '  + f'{importe_total_facturas:.2f}'+' €' )\n",
    "\n",
    "# Distribución por categoría\n",
    "\n",
    "### NO APLICABLE CREO (luego al unir con los deals??)"
   ],
   "outputs": [
    {
     "name": "stdout",
     "output_type": "stream",
     "text": [
      "Número total de facturas:  14\n",
      "Importe total de facturas: 811357.98 €\n"
     ]
    }
   ],
   "execution_count": 67
  },
  {
   "metadata": {},
   "cell_type": "markdown",
   "source": "### Deals"
  },
  {
   "metadata": {
    "ExecuteTime": {
     "end_time": "2024-06-22T14:36:42.702206Z",
     "start_time": "2024-06-22T14:36:42.696146Z"
    }
   },
   "cell_type": "code",
   "source": [
    "# Vamos a ver si en Deals (sin mappear) hay IDs repetidos \n",
    "## esto implicaria que los canales son redundantes\n",
    "\n",
    "num_ID_deals = deals_df['Id'].count()-deals_df['Id'].nunique()\n",
    "print('IDs totales - ID unicos: ', num_ID_deals)\n",
    "\n",
    "# los canales no son redundantes\n",
    "\n",
    "# Vemos tras el mappeado,\n",
    "num_ID_deals_mapped = deals_mapped_df['Id'].count()-deals_mapped_df['Id'].nunique()\n",
    "print('IDs totales - ID unicos: ', num_ID_deals_mapped)\n"
   ],
   "outputs": [
    {
     "name": "stdout",
     "output_type": "stream",
     "text": [
      "IDs totales - ID unicos:  0\n",
      "IDs totales - ID unicos:  95\n"
     ]
    }
   ],
   "execution_count": 68
  },
  {
   "metadata": {
    "ExecuteTime": {
     "end_time": "2024-06-22T14:36:42.704289Z",
     "start_time": "2024-06-22T14:36:42.702206Z"
    }
   },
   "cell_type": "code",
   "source": "",
   "outputs": [],
   "execution_count": 68
  },
  {
   "metadata": {
    "ExecuteTime": {
     "end_time": "2024-06-22T14:36:42.708074Z",
     "start_time": "2024-06-22T14:36:42.704289Z"
    }
   },
   "cell_type": "code",
   "source": [
    "# Número total de Deals\n",
    "numero_total_deals = deals_df['Quantity'].count()\n",
    "numero_total_deals_mapped = deals_mapped_df['Quantity'].count()\n",
    "numero_total_deals_mapped_unicos = deals_mapped_df['Quantity'].nunique()\n",
    "\n",
    "### unique counts?\n",
    "\n",
    "print('Número total de deals: ',numero_total_deals)\n",
    "print('Número total de deals_mapped: ',numero_total_deals_mapped)\n",
    "print('Número total de deals_mapped (únicos): ',numero_total_deals_mapped_unicos)\n",
    "\n",
    "# Volumen total de Deals\n",
    "\n",
    "# Distribución por Categorías"
   ],
   "outputs": [
    {
     "name": "stdout",
     "output_type": "stream",
     "text": [
      "Número total de deals:  50\n",
      "Número total de deals_mapped:  145\n",
      "Número total de deals_mapped (únicos):  30\n"
     ]
    }
   ],
   "execution_count": 69
  },
  {
   "metadata": {},
   "cell_type": "markdown",
   "source": "## Conciliación"
  },
  {
   "metadata": {},
   "cell_type": "markdown",
   "source": "### Merge de Facturas con los *Deals*"
  },
  {
   "metadata": {
    "ExecuteTime": {
     "end_time": "2024-06-22T14:36:42.710253Z",
     "start_time": "2024-06-22T14:36:42.708074Z"
    }
   },
   "cell_type": "code",
   "source": "",
   "outputs": [],
   "execution_count": 69
  },
  {
   "metadata": {
    "ExecuteTime": {
     "end_time": "2024-06-22T14:36:42.712365Z",
     "start_time": "2024-06-22T14:36:42.710253Z"
    }
   },
   "cell_type": "code",
   "source": "",
   "outputs": [],
   "execution_count": 69
  },
  {
   "metadata": {},
   "cell_type": "markdown",
   "source": "### Unificación de fechas y filtrado"
  },
  {
   "metadata": {
    "ExecuteTime": {
     "end_time": "2024-06-22T14:36:42.723047Z",
     "start_time": "2024-06-22T14:36:42.712365Z"
    }
   },
   "cell_type": "code",
   "source": [
    "# por ultimo cambio el nombre y el orden de las columnas para verlo mejor\n",
    "facturas_conciliadas_Marzo_df.rename(columns={'NumeroFactura': 'Número de Factura', 'FechaFactura':'Fecha Factura', 'Id':'ID Deal', 'LegId':'LegID', \n",
    "                                              'Quantity':'Importe Deal', 'Importe':'Importe Factura', 'TradeDate':'Fecha Deal'}, inplace=True)\n",
    "\n",
    "orden = ['Número de Factura', 'ID Deal', 'Importe Factura', 'Importe Deal', 'Fecha Factura', 'Fecha Deal', 'LegID',\n",
    "         'Origen', 'Servicio Facturado', 'LegType', 'Category', 'Portfolio', 'Commodity', 'DealType', 'Conciliado', 'Observaciones']\n",
    "\n",
    "facturas_conciliadas_Marzo_df = facturas_conciliadas_Marzo_df.reindex(columns=orden)\n",
    "\n",
    "facturas_conciliadas_Marzo_df.head(100)"
   ],
   "outputs": [
    {
     "ename": "NameError",
     "evalue": "name 'facturas_conciliadas_Marzo_df' is not defined",
     "output_type": "error",
     "traceback": [
      "\u001B[1;31m---------------------------------------------------------------------------\u001B[0m",
      "\u001B[1;31mNameError\u001B[0m                                 Traceback (most recent call last)",
      "Cell \u001B[1;32mIn[70], line 2\u001B[0m\n\u001B[0;32m      1\u001B[0m \u001B[38;5;66;03m# por ultimo cambio el nombre y el orden de las columnas para verlo mejor\u001B[39;00m\n\u001B[1;32m----> 2\u001B[0m \u001B[43mfacturas_conciliadas_Marzo_df\u001B[49m\u001B[38;5;241m.\u001B[39mrename(columns\u001B[38;5;241m=\u001B[39m{\u001B[38;5;124m'\u001B[39m\u001B[38;5;124mNumeroFactura\u001B[39m\u001B[38;5;124m'\u001B[39m: \u001B[38;5;124m'\u001B[39m\u001B[38;5;124mNúmero de Factura\u001B[39m\u001B[38;5;124m'\u001B[39m, \u001B[38;5;124m'\u001B[39m\u001B[38;5;124mFechaFactura\u001B[39m\u001B[38;5;124m'\u001B[39m:\u001B[38;5;124m'\u001B[39m\u001B[38;5;124mFecha Factura\u001B[39m\u001B[38;5;124m'\u001B[39m, \u001B[38;5;124m'\u001B[39m\u001B[38;5;124mId\u001B[39m\u001B[38;5;124m'\u001B[39m:\u001B[38;5;124m'\u001B[39m\u001B[38;5;124mID Deal\u001B[39m\u001B[38;5;124m'\u001B[39m, \u001B[38;5;124m'\u001B[39m\u001B[38;5;124mLegId\u001B[39m\u001B[38;5;124m'\u001B[39m:\u001B[38;5;124m'\u001B[39m\u001B[38;5;124mLegID\u001B[39m\u001B[38;5;124m'\u001B[39m, \n\u001B[0;32m      3\u001B[0m                                               \u001B[38;5;124m'\u001B[39m\u001B[38;5;124mQuantity\u001B[39m\u001B[38;5;124m'\u001B[39m:\u001B[38;5;124m'\u001B[39m\u001B[38;5;124mImporte Deal\u001B[39m\u001B[38;5;124m'\u001B[39m, \u001B[38;5;124m'\u001B[39m\u001B[38;5;124mImporte\u001B[39m\u001B[38;5;124m'\u001B[39m:\u001B[38;5;124m'\u001B[39m\u001B[38;5;124mImporte Factura\u001B[39m\u001B[38;5;124m'\u001B[39m, \u001B[38;5;124m'\u001B[39m\u001B[38;5;124mTradeDate\u001B[39m\u001B[38;5;124m'\u001B[39m:\u001B[38;5;124m'\u001B[39m\u001B[38;5;124mFecha Deal\u001B[39m\u001B[38;5;124m'\u001B[39m}, inplace\u001B[38;5;241m=\u001B[39m\u001B[38;5;28;01mTrue\u001B[39;00m)\n\u001B[0;32m      5\u001B[0m orden \u001B[38;5;241m=\u001B[39m [\u001B[38;5;124m'\u001B[39m\u001B[38;5;124mNúmero de Factura\u001B[39m\u001B[38;5;124m'\u001B[39m, \u001B[38;5;124m'\u001B[39m\u001B[38;5;124mID Deal\u001B[39m\u001B[38;5;124m'\u001B[39m, \u001B[38;5;124m'\u001B[39m\u001B[38;5;124mImporte Factura\u001B[39m\u001B[38;5;124m'\u001B[39m, \u001B[38;5;124m'\u001B[39m\u001B[38;5;124mImporte Deal\u001B[39m\u001B[38;5;124m'\u001B[39m, \u001B[38;5;124m'\u001B[39m\u001B[38;5;124mFecha Factura\u001B[39m\u001B[38;5;124m'\u001B[39m, \u001B[38;5;124m'\u001B[39m\u001B[38;5;124mFecha Deal\u001B[39m\u001B[38;5;124m'\u001B[39m, \u001B[38;5;124m'\u001B[39m\u001B[38;5;124mLegID\u001B[39m\u001B[38;5;124m'\u001B[39m,\n\u001B[0;32m      6\u001B[0m          \u001B[38;5;124m'\u001B[39m\u001B[38;5;124mOrigen\u001B[39m\u001B[38;5;124m'\u001B[39m, \u001B[38;5;124m'\u001B[39m\u001B[38;5;124mServicio Facturado\u001B[39m\u001B[38;5;124m'\u001B[39m, \u001B[38;5;124m'\u001B[39m\u001B[38;5;124mLegType\u001B[39m\u001B[38;5;124m'\u001B[39m, \u001B[38;5;124m'\u001B[39m\u001B[38;5;124mCategory\u001B[39m\u001B[38;5;124m'\u001B[39m, \u001B[38;5;124m'\u001B[39m\u001B[38;5;124mPortfolio\u001B[39m\u001B[38;5;124m'\u001B[39m, \u001B[38;5;124m'\u001B[39m\u001B[38;5;124mCommodity\u001B[39m\u001B[38;5;124m'\u001B[39m, \u001B[38;5;124m'\u001B[39m\u001B[38;5;124mDealType\u001B[39m\u001B[38;5;124m'\u001B[39m, \u001B[38;5;124m'\u001B[39m\u001B[38;5;124mConciliado\u001B[39m\u001B[38;5;124m'\u001B[39m, \u001B[38;5;124m'\u001B[39m\u001B[38;5;124mObservaciones\u001B[39m\u001B[38;5;124m'\u001B[39m]\n\u001B[0;32m      8\u001B[0m facturas_conciliadas_Marzo_df \u001B[38;5;241m=\u001B[39m facturas_conciliadas_Marzo_df\u001B[38;5;241m.\u001B[39mreindex(columns\u001B[38;5;241m=\u001B[39morden)\n",
      "\u001B[1;31mNameError\u001B[0m: name 'facturas_conciliadas_Marzo_df' is not defined"
     ]
    }
   ],
   "execution_count": 70
  },
  {
   "cell_type": "markdown",
   "source": [
    "## Propuesta de Valor"
   ],
   "metadata": {
    "id": "-c7F_UKvQ0Ir"
   }
  }
 ]
}
