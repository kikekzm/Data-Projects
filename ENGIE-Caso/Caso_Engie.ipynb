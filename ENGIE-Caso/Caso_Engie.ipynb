{
 "nbformat": 4,
 "nbformat_minor": 0,
 "metadata": {
  "colab": {
   "provenance": [],
   "authorship_tag": "ABX9TyMeuHKIB0wWW1Sx83WpXGTK",
   "include_colab_link": true
  },
  "kernelspec": {
   "name": "python3",
   "display_name": "Python 3 (ipykernel)",
   "language": "python"
  },
  "language_info": {
   "name": "python"
  }
 },
 "cells": [
  {
   "cell_type": "markdown",
   "source": [
    "# Caso Práctico - ENGIE\n",
    "\n",
    "*Jose Enrique Zafra Mena*"
   ],
   "metadata": {
    "id": "PBxKy7ZvQa7u"
   }
  },
  {
   "cell_type": "code",
   "metadata": {
    "id": "VR8r43K1pBpX",
    "ExecuteTime": {
     "end_time": "2024-06-20T16:33:37.701455Z",
     "start_time": "2024-06-20T16:33:36.273275Z"
    }
   },
   "source": [
    "import numpy as np\n",
    "import matplotlib.pyplot as plt\n",
    "import pandas as pd\n",
    "import openpyxl"
   ],
   "outputs": [],
   "execution_count": 3
  },
  {
   "cell_type": "markdown",
   "source": [
    "## Carga y preparación de Datos\n"
   ],
   "metadata": {
    "id": "ckeriUYXQXVl"
   }
  },
  {
   "cell_type": "code",
   "source": [
    "facturas_df=pd.read_excel('facturas.xlsx')\n",
    "mapping_df=pd.read_excel('Mapping.xlsx')\n",
    "\n",
    "# renombramos los Deals\n",
    "CTV_df=pd.read_excel('JVLNG_CTV_STOK_MARZO_2024_05_23_14_12.xlsx')\n",
    "IAC_df=pd.read_excel('MEDG2_IAC_GETRA_MARZO_2024_05_23_14_12.xlsx')\n",
    "AOC2_df=pd.read_excel('SUGS2_AOC_STOK_MARZO_2024_05_23_14_12.xlsx')\n",
    "AOC_df=pd.read_excel('SUGST_AOC_STOK_MARZO_2024_05_23_14_12.xlsx')\n"
   ],
   "metadata": {
    "id": "VNSztI0GQuQM",
    "ExecuteTime": {
     "end_time": "2024-06-20T19:36:16.033343Z",
     "start_time": "2024-06-20T19:36:15.944409Z"
    }
   },
   "outputs": [],
   "execution_count": 60
  },
  {
   "cell_type": "code",
   "source": [
    "# verificamos las primeras filas de cada dataframe\n",
    "print(\"Facturas AGIkey:\")\n",
    "print(facturas_df.head())\n",
    "\n",
    "print(\"\\nMapping:\")\n",
    "print(mapping_df.head())\n",
    "\n",
    "print(\"\\nCTV:\")\n",
    "print(CTV_df.head())\n",
    "\n",
    "print(\"\\nIAC:\")\n",
    "print(IAC_df.head())\n",
    "\n",
    "print(\"\\nAOC2:\")\n",
    "print(AOC2_df.head())\n",
    "\n",
    "print(\"\\nAOC:\")\n",
    "print(AOC_df.head())"
   ],
   "metadata": {
    "colab": {
     "base_uri": "https://localhost:8080/",
     "height": 1000
    },
    "id": "PeqJpMAPXydm",
    "outputId": "d56c79a3-8b36-4775-ffb4-979595917e7c",
    "ExecuteTime": {
     "end_time": "2024-06-20T19:22:53.410082Z",
     "start_time": "2024-06-20T19:22:53.396239Z"
    }
   },
   "outputs": [
    {
     "name": "stdout",
     "output_type": "stream",
     "text": [
      "Facturas AGIkey:\n",
      "   NumeroFactura       Emisor       RazonSocialEmisor  DepEmisor     Receptor  \\\n",
      "0     2024264672  ESA86484292         ENAGAS GTS, SAU       60.0  ESB82508441   \n",
      "1     2024264671  ESA86484292         ENAGAS GTS, SAU       60.0  ESB82508441   \n",
      "2     2324004231  ESA86484334  ENAGAS TRANSPORTE, SAU        NaN  ESB82508441   \n",
      "3     2024164592  ESA86484292         ENAGAS GTS, SAU       50.0  ESB82508441   \n",
      "4     2024164591  ESA86484292         ENAGAS GTS, SAU       50.0  ESB82508441   \n",
      "\n",
      "  RazonSocialReceptor  DepReceptor FechaFactura    Importe Moneda    Estado  \\\n",
      "0    ENGIE ESPAÑA SLU          NaN       4/3/24  123195.13    EUR  Recibida   \n",
      "1    ENGIE ESPAÑA SLU          NaN       4/3/24  111963.62    EUR  Recibida   \n",
      "2    ENGIE ESPAÑA SLU          NaN       6/3/24  503763.47    EUR  Recibida   \n",
      "3    ENGIE ESPAÑA SLU          NaN       4/3/24    1375.12    EUR  Recibida   \n",
      "4    ENGIE ESPAÑA SLU          NaN       4/3/24    1787.43    EUR  Recibida   \n",
      "\n",
      "  FechaEstado FechaRegistro Destino   Contrato        Origen  \\\n",
      "0      4/3/24        4/3/24   eMail     344991           AVB   \n",
      "1      4/3/24        4/3/24   eMail     344991           AVB   \n",
      "2      6/3/24        6/3/24   eMail  300289985  C.I. Almería   \n",
      "3      4/3/24        4/3/24   eMail     344991           TVB   \n",
      "4      4/3/24        4/3/24   eMail     344991           TVB   \n",
      "\n",
      "       ServicioFacturado  ¿Verificada por BO?  Observaciones  \n",
      "0  Servicio agregado AVB                  NaN            NaN  \n",
      "1  Servicio agregado AVB                  NaN            NaN  \n",
      "2            Entrada PVB                  NaN            NaN  \n",
      "3     Almacenamiento TVB                  NaN            NaN  \n",
      "4     Almacenamiento TVB                  NaN            NaN  \n",
      "\n",
      "Mapping:\n",
      "         Origen Servicio facturado Portfolio Commodity DealType\n",
      "0  C.I. Almería        Entrada PVB     MEDG2       IAC    GETRA\n",
      "1           TVB            PLANTAS     JVLNG       ICC    GETRA\n",
      "2           TVB            PLANTAS     JVLNG       ICC    GETRA\n",
      "3           TVB            PLANTAS     JVLNG       ICC    GETRA\n",
      "4           TVB            PLANTAS     JVLNG       ICC    GETRA\n",
      "\n",
      "CTV:\n",
      "   Unnamed: 0                       AggregatedKey ApplicationPeriod  \\\n",
      "0           0  42563586,2024/05/20 13:35:59,GEFWD            010524   \n",
      "1           1  42518127,2024/05/20 13:34:13,GEFWD            040624   \n",
      "2           2  42518126,2024/05/20 13:35:59,GEFWD            010624   \n",
      "3           3  42518125,2024/05/20 13:35:59,GEFWD            010524   \n",
      "4           4  42518124,2024/05/20 13:35:59,GEFWD            280424   \n",
      "\n",
      "  BookingSource  BOValidated           BOValidationDate BOValidator  \\\n",
      "0           MET         True  2024-05-20T13:35:59+02:00      GGH410   \n",
      "1           MET         True  2024-05-20T13:34:13+02:00      GGH410   \n",
      "2           MET         True  2024-05-20T13:35:59+02:00      GGH410   \n",
      "3           MET         True  2024-05-20T13:35:59+02:00      GGH410   \n",
      "4           MET         True  2024-05-20T13:35:59+02:00      GGH410   \n",
      "\n",
      "   CancelsDealId  Capacity  CapacityFrequency  ... ExerciseDate ExerciseType  \\\n",
      "0              0   90000.0             1440.0  ...          NaN          NaN   \n",
      "1              0   50000.0             1440.0  ...          NaN          NaN   \n",
      "2              0   50000.0             1440.0  ...          NaN          NaN   \n",
      "3              0   50000.0             1440.0  ...          NaN          NaN   \n",
      "4              0   50000.0             1440.0  ...          NaN          NaN   \n",
      "\n",
      "   Nature OptionNature OptionType  PeriodInfoCollection Script TemplateId  \\\n",
      "0     NaN          NaN        NaN                   NaN    NaN        NaN   \n",
      "1     NaN          NaN        NaN                   NaN    NaN        NaN   \n",
      "2     NaN          NaN        NaN                   NaN    NaN        NaN   \n",
      "3     NaN          NaN        NaN                   NaN    NaN        NaN   \n",
      "4     NaN          NaN        NaN                   NaN    NaN        NaN   \n",
      "\n",
      "  TemplateScript OrderId  \n",
      "0            NaN     NaN  \n",
      "1            NaN     NaN  \n",
      "2            NaN     NaN  \n",
      "3            NaN     NaN  \n",
      "4            NaN     NaN  \n",
      "\n",
      "[5 rows x 108 columns]\n",
      "\n",
      "IAC:\n",
      "   Unnamed: 0                       AggregatedKey ApplicationPeriod  \\\n",
      "0           0  37591650,2024/05/17 09:15:39,GETRA             CAL24   \n",
      "1           1  37056084,2024/02/09 14:35:58,GETRA             CAL23   \n",
      "\n",
      "   AuctionType BookingSource  BOValidated           BOValidationDate  \\\n",
      "0          NaN           MET         True  2024-03-11T13:26:05+01:00   \n",
      "1          NaN           MET         True  2024-02-09T14:35:58+01:00   \n",
      "\n",
      "  BOValidator  CancelsDealId  Capacity  ...  TraderCode      TraderName  \\\n",
      "0      GGH410              0     31500  ...  D12\\EF2015  AUBIN Baptiste   \n",
      "1      GGH410              0     31500  ...  D12\\EF2015  AUBIN Baptiste   \n",
      "\n",
      "  TradeType  TradingPlace TradingSystem Underlying  UnwindStatus VAI  \\\n",
      "0    Market            MA            ME        IAC        Normal   0   \n",
      "1    Market            MA            ME        IAC        Normal   0   \n",
      "\n",
      "         VersionCreationDate          VersionUpdateDate  \n",
      "0  2024-05-17T09:15:39+02:00  9999-01-01T00:00:00+01:00  \n",
      "1  2024-02-09T14:35:58+01:00  9999-01-01T00:00:00+01:00  \n",
      "\n",
      "[2 rows x 86 columns]\n",
      "\n",
      "AOC2:\n",
      "   Unnamed: 0                       AggregatedKey ApplicationPeriod  \\\n",
      "0           0  41996650,2024/04/24 10:41:24,GEFWD            010424   \n",
      "1           1  40094436,2023/12/27 12:37:03,GEFWD             OCT23   \n",
      "2           2  40089592,2023/10/09 13:07:03,GEFWD            041023   \n",
      "3           3  38410189,2023/12/27 12:24:19,GEFWD            010523   \n",
      "4           4  38290195,2023/12/27 12:22:36,GEFWD            170423   \n",
      "\n",
      "  BookingSource  BOValidated           BOValidationDate BOValidator  \\\n",
      "0           MET         True  2024-04-24T10:41:24+02:00      GGH410   \n",
      "1           MET         True  2023-12-27T12:37:03+01:00      GGH410   \n",
      "2           MET        False  1900-01-01T00:00:00+01:00         NaN   \n",
      "3           MET         True  2023-12-27T12:24:19+01:00      GGH410   \n",
      "4           MET         True  2023-12-27T12:22:36+01:00      GGH410   \n",
      "\n",
      "   CancelsDealId     Capacity  CapacityFrequency  ... VAI  \\\n",
      "0              0  15000.00000               1440  ...   0   \n",
      "1              0      0.00001               1440  ...   0   \n",
      "2              0    281.70580               1440  ...   0   \n",
      "3              0   1178.16300               1440  ...   0   \n",
      "4              0    924.58800               1440  ...   0   \n",
      "\n",
      "         VersionCreationDate          VersionUpdateDate  OriginalId  \\\n",
      "0  2024-04-24T10:41:24+02:00  9999-01-01T00:00:00+01:00         NaN   \n",
      "1  2023-12-27T12:37:03+01:00  9999-01-01T00:00:00+01:00         NaN   \n",
      "2  2023-10-09T13:07:03+02:00  2023-10-09T13:07:03+02:00  22396724.0   \n",
      "3  2023-12-27T12:24:19+01:00  9999-01-01T00:00:00+01:00         NaN   \n",
      "4  2023-12-27T12:22:36+01:00  9999-01-01T00:00:00+01:00         NaN   \n",
      "\n",
      "            FOComment  Interruptible IsVirtualLeg Premium PremiumCurrency  \\\n",
      "0                 NaN            NaN          NaN     NaN             NaN   \n",
      "1                 NaN            NaN          NaN     NaN             NaN   \n",
      "2                 NaN            NaN          NaN     NaN             NaN   \n",
      "3  DESBALANCE CARTERA            NaN          NaN     NaN             NaN   \n",
      "4  DESBALANCE CARTERA            NaN          NaN     NaN             NaN   \n",
      "\n",
      "  PremiumQuantityUnit  \n",
      "0                 NaN  \n",
      "1                 NaN  \n",
      "2                 NaN  \n",
      "3                 NaN  \n",
      "4                 NaN  \n",
      "\n",
      "[5 rows x 97 columns]\n",
      "\n",
      "AOC:\n",
      "   Unnamed: 0                       AggregatedKey BookingSource  BOValidated  \\\n",
      "0           0   41888250,2024/05/17 16:48:00,STOK           MET         True   \n",
      "1           1  38290460,2023/12/27 12:22:36,GEFWD           MET         True   \n",
      "2           2  38249489,2023/12/27 12:22:36,GEFWD           MET         True   \n",
      "3           3  38054569,2023/12/27 12:18:50,GEFWD           MET         True   \n",
      "4           4   36525979,2024/04/26 12:02:50,STOK           MET         True   \n",
      "\n",
      "            BOValidationDate BOValidator  CancelsDealId  CapacityFrequency  \\\n",
      "0  2024-05-17T16:48:00+02:00      GGH410              0               1440   \n",
      "1  2023-12-27T12:22:36+01:00      GGH410              0               1440   \n",
      "2  2023-12-27T12:22:36+01:00      GGH410              0               1440   \n",
      "3  2023-12-27T12:18:50+01:00      GGH410              0               1440   \n",
      "4  2024-04-26T12:02:50+02:00      GGH410              0               1440   \n",
      "\n",
      "  CapacityUnit Category  ...  HasDeliveryExceptions HasShape  N_1  \\\n",
      "0          MWZ        O  ...                    NaN      NaN  NaN   \n",
      "1          MWZ        O  ...                    0.0      0.0  0.0   \n",
      "2          MWZ        O  ...                    0.0      0.0  0.0   \n",
      "3          MWZ        O  ...                    0.0      0.0  NaN   \n",
      "4          MWZ        O  ...                    NaN      NaN  NaN   \n",
      "\n",
      "                                             Periods Strike StrikeCurrency  \\\n",
      "0                                                NaN    NaN            NaN   \n",
      "1  [{'MarketMaturityId': '170423', 'DeliveryPerio...  35.20            EUR   \n",
      "2  [{'MarketMaturityId': '160423', 'DeliveryPerio...  34.55            EUR   \n",
      "3  [{'MarketMaturityId': '250323', 'DeliveryPerio...  36.76            EUR   \n",
      "4                                                NaN    NaN            NaN   \n",
      "\n",
      "  StrikeCurrencyFactor StrikeQuantityUnit TotalQuantity  \\\n",
      "0                  NaN                NaN           NaN   \n",
      "1                  1.0                MWZ       924.588   \n",
      "2                  1.0                MWZ       352.340   \n",
      "3                  1.0                MWZ      3910.694   \n",
      "4                  NaN                NaN           NaN   \n",
      "\n",
      "              TradeValueDate  \n",
      "0                        NaN  \n",
      "1  2023-04-24T00:00:00+02:00  \n",
      "2  2023-04-19T00:00:00+02:00  \n",
      "3  2023-03-28T00:00:00+02:00  \n",
      "4                        NaN  \n",
      "\n",
      "[5 rows x 96 columns]\n"
     ]
    }
   ],
   "execution_count": 44
  },
  {
   "metadata": {
    "ExecuteTime": {
     "end_time": "2024-06-20T19:36:19.980673Z",
     "start_time": "2024-06-20T19:36:19.975888Z"
    }
   },
   "cell_type": "code",
   "source": [
    "# verificamos las columnas de cada dataframe\n",
    "print(\"\\nColumnas de Facturas:\")\n",
    "print(facturas_df.columns)\n",
    "\n",
    "print(\"\\nColumnas de Mapping:\")\n",
    "print(mapping_df.columns)\n",
    "\n",
    "print(\"\\nColumnas de CTV:\")\n",
    "print(CTV_df.columns)\n",
    "\n",
    "print(\"\\nColumnas de IAC:\")\n",
    "print(IAC_df.columns)\n",
    "\n",
    "print(\"\\nColumnas de AOC2:\")\n",
    "print(AOC2_df.columns)\n",
    "\n",
    "print(\"\\nColumnas de AOC:\")\n",
    "print(AOC_df.columns)\n"
   ],
   "outputs": [
    {
     "name": "stdout",
     "output_type": "stream",
     "text": [
      "\n",
      "Columnas de Facturas:\n",
      "Index(['NumeroFactura', 'Emisor', 'RazonSocialEmisor', 'DepEmisor', 'Receptor',\n",
      "       'RazonSocialReceptor', 'DepReceptor', 'FechaFactura', 'Importe',\n",
      "       'Moneda', 'Estado', 'FechaEstado', 'FechaRegistro', 'Destino',\n",
      "       'Contrato', 'Origen', 'ServicioFacturado', '¿Verificada por BO?',\n",
      "       'Observaciones'],\n",
      "      dtype='object')\n",
      "\n",
      "Columnas de Mapping:\n",
      "Index(['Origen', 'Servicio facturado', 'Portfolio', 'Commodity', 'DealType'], dtype='object')\n",
      "\n",
      "Columnas de CTV:\n",
      "Index(['Unnamed: 0', 'AggregatedKey', 'ApplicationPeriod', 'BookingSource',\n",
      "       'BOValidated', 'BOValidationDate', 'BOValidator', 'CancelsDealId',\n",
      "       'Capacity', 'CapacityFrequency',\n",
      "       ...\n",
      "       'ExerciseDate', 'ExerciseType', 'Nature', 'OptionNature', 'OptionType',\n",
      "       'PeriodInfoCollection', 'Script', 'TemplateId', 'TemplateScript',\n",
      "       'OrderId'],\n",
      "      dtype='object', length=108)\n",
      "\n",
      "Columnas de IAC:\n",
      "Index(['Unnamed: 0', 'AggregatedKey', 'ApplicationPeriod', 'AuctionType',\n",
      "       'BookingSource', 'BOValidated', 'BOValidationDate', 'BOValidator',\n",
      "       'CancelsDealId', 'Capacity', 'CapacityFrequency', 'CapacityUnit',\n",
      "       'Category', 'Clearer', 'ClientType', 'CommodityType', 'Counterparty',\n",
      "       'CounterpartyCode', 'CounterpartyLongName', 'CounterpartyName',\n",
      "       'Currency', 'DealCreationDate', 'DealType', 'DeliveryPeriodName',\n",
      "       'DeliveryPoint', 'DeliveryType', 'DeliveryZone', 'Desk', 'Direction',\n",
      "       'EndDeliveryDate', 'Entity', 'ExtraVAI', 'Flows', 'FOComment',\n",
      "       'FOValidation', 'FromDeliveryPoint', 'FromDeliveryZone', 'Id',\n",
      "       'Interruptible', 'IsVirtualLeg', 'LastUpdateTime', 'LegId', 'LegType',\n",
      "       'MaturityDate', 'MaturityValueDate', 'MidPrice', 'MirrorFOValidation',\n",
      "       'MirrorPortFolioId', 'MirrorTradeId', 'Nature', 'NextFixingDate',\n",
      "       'Origin', 'OriginalTrader', 'Portfolio', 'PortfolioDivision',\n",
      "       'PortfolioGop', 'PortfolioLongName', 'PortfolioName', 'POValidated',\n",
      "       'Premium', 'PremiumCurrency', 'PremiumQuantityUnit', 'Quantity',\n",
      "       'QuantityUnit', 'ReplacedByDealId', 'ReplacesDealId', 'SettleCurrency',\n",
      "       'SettlementDate', 'SettlementPremium', 'SettlementRule',\n",
      "       'StartDeliveryDate', 'Status', 'TasPaymentFrequency', 'TradeDate',\n",
      "       'TradeProperties', 'Trader', 'TraderCode', 'TraderName', 'TradeType',\n",
      "       'TradingPlace', 'TradingSystem', 'Underlying', 'UnwindStatus', 'VAI',\n",
      "       'VersionCreationDate', 'VersionUpdateDate'],\n",
      "      dtype='object')\n",
      "\n",
      "Columnas de AOC2:\n",
      "Index(['Unnamed: 0', 'AggregatedKey', 'ApplicationPeriod', 'BookingSource',\n",
      "       'BOValidated', 'BOValidationDate', 'BOValidator', 'CancelsDealId',\n",
      "       'Capacity', 'CapacityFrequency', 'CapacityUnit', 'Category', 'Clearer',\n",
      "       'ClientType', 'CommodityType', 'Counterparty', 'CounterpartyCode',\n",
      "       'CounterpartyLongName', 'CounterpartyName', 'Currency',\n",
      "       'DealCreationDate', 'DealType', 'DeliveryPeriodName', 'DeliveryPoint',\n",
      "       'DeliveryProfileCode', 'DeliveryProfileName', 'DeliveryType',\n",
      "       'DeliveryZone', 'Desk', 'Direction', 'EndDeliveryDate', 'Entity',\n",
      "       'ExtraVAI', 'Flows', 'Folder', 'FolderName', 'FOValidation',\n",
      "       'HasDeliveryExceptions', 'HasShape', 'Id', 'LastUpdateTime', 'LegId',\n",
      "       'LegType', 'MaturityDate', 'MaturityValueDate', 'MidPrice',\n",
      "       'MirrorFOValidation', 'MirrorPortFolioId', 'MirrorTradeId', 'N_1',\n",
      "       'NextFixingDate', 'Origin', 'OriginalTrader', 'Periods', 'Portfolio',\n",
      "       'PortfolioDivision', 'PortfolioGop', 'PortfolioLongName',\n",
      "       'PortfolioName', 'Quantity', 'QuantityUnit', 'ReplacedByDealId',\n",
      "       'ReplacesDealId', 'SettleCurrency', 'SettlementDate',\n",
      "       'SettlementFrequency', 'SettlementRule', 'StartDeliveryDate', 'Status',\n",
      "       'Strike', 'StrikeCurrency', 'StrikeCurrencyFactor',\n",
      "       'StrikeQuantityUnit', 'TasPaymentFrequency', 'TemplateProfile',\n",
      "       'TotalQuantity', 'TradeDate', 'TradeProperties', 'Trader', 'TraderCode',\n",
      "       'TraderName', 'TradeType', 'TradeValueDate', 'TradingPlace',\n",
      "       'TradingSystem', 'Underlying', 'UnwindStatus', 'VAI',\n",
      "       'VersionCreationDate', 'VersionUpdateDate', 'OriginalId', 'FOComment',\n",
      "       'Interruptible', 'IsVirtualLeg', 'Premium', 'PremiumCurrency',\n",
      "       'PremiumQuantityUnit'],\n",
      "      dtype='object')\n",
      "\n",
      "Columnas de AOC:\n",
      "Index(['Unnamed: 0', 'AggregatedKey', 'BookingSource', 'BOValidated',\n",
      "       'BOValidationDate', 'BOValidator', 'CancelsDealId', 'CapacityFrequency',\n",
      "       'CapacityUnit', 'Category', 'Clearer', 'ClientType', 'CommodityType',\n",
      "       'Counterparty', 'CounterpartyCode', 'CounterpartyLongName',\n",
      "       'CounterpartyName', 'Currency', 'DealCreationDate', 'DealType',\n",
      "       'DeliveryPeriodName', 'DeliveryPoint', 'DeliveryProfileCode',\n",
      "       'DeliveryProfileName', 'DeliveryType', 'DeliveryZone', 'Desk',\n",
      "       'Direction', 'EndDeliveryDate', 'Entity', 'ExtraVAI', 'Flows',\n",
      "       'FOComment', 'FOValidation', 'Id', 'Interruptible', 'IsVirtualLeg',\n",
      "       'LastUpdateTime', 'LegId', 'LegType', 'MaturityDate',\n",
      "       'MaturityValueDate', 'MidPrice', 'MirrorFOValidation',\n",
      "       'MirrorPortFolioId', 'MirrorTradeId', 'NextFixingDate', 'Origin',\n",
      "       'OriginalTrader', 'Portfolio', 'PortfolioDivision', 'PortfolioGop',\n",
      "       'PortfolioLongName', 'PortfolioName', 'Premium', 'PremiumCurrency',\n",
      "       'PremiumQuantityUnit', 'Quantity', 'QuantityUnit', 'ReplacedByDealId',\n",
      "       'ReplacesDealId', 'SettleCurrency', 'SettlementDate',\n",
      "       'SettlementFrequency', 'SettlementRule', 'StartDeliveryDate', 'Status',\n",
      "       'TasPaymentFrequency', 'TemplateProfile', 'TradeDate',\n",
      "       'TradeProperties', 'Trader', 'TraderCode', 'TraderName', 'TradeType',\n",
      "       'TradingPlace', 'TradingSystem', 'Underlying', 'UnwindStatus', 'VAI',\n",
      "       'VersionCreationDate', 'VersionUpdateDate', 'ApplicationPeriod',\n",
      "       'Capacity', 'Folder', 'FolderName', 'HasDeliveryExceptions', 'HasShape',\n",
      "       'N_1', 'Periods', 'Strike', 'StrikeCurrency', 'StrikeCurrencyFactor',\n",
      "       'StrikeQuantityUnit', 'TotalQuantity', 'TradeValueDate'],\n",
      "      dtype='object')\n"
     ]
    }
   ],
   "execution_count": 61
  },
  {
   "metadata": {},
   "cell_type": "markdown",
   "source": "Vamos a renombrar columnas comunes,"
  },
  {
   "metadata": {
    "ExecuteTime": {
     "end_time": "2024-06-20T19:33:34.687077Z",
     "start_time": "2024-06-20T19:33:34.684095Z"
    }
   },
   "cell_type": "code",
   "source": [
    "facturas_df.rename(columns={'ServicioFacturado': 'Servicio Facturado'}, inplace=True)\n",
    "mapping_df.rename(columns={'Servicio facturado': 'Servicio Facturado'}, inplace=True)"
   ],
   "outputs": [],
   "execution_count": 57
  },
  {
   "cell_type": "markdown",
   "source": [
    "## Transformación de los datos\n",
    "\n",
    "Vamos a conectar el Mapping con cada Deal, ya que queremos comparar con las facturas.\n",
    "\n",
    "Para conectar Mapping con CTV usamos Commodity==CTV\n",
    "\n",
    "Para conectar Mapping con IAC usamos Commodity==IAC\n",
    "\n",
    "Para conectar Mapping con AOC usamos Commodity==AOC & Portofolio: SUGST\n",
    "\n",
    "Para conectar Mapping con AOC2 usamos Commodity==AOC & Portofolio: SUGS2\n"
   ],
   "metadata": {
    "id": "3BLfErtxQws0"
   }
  },
  {
   "metadata": {
    "ExecuteTime": {
     "end_time": "2024-06-20T19:32:26.576377Z",
     "start_time": "2024-06-20T19:32:26.331342Z"
    }
   },
   "cell_type": "code",
   "source": [
    "# para poder unir cada Deal con Mapping individualmente, añadimos las columnas Portofolio y Commodity a cada deal\n",
    "# y le asignamos su nombre correspondiente\n",
    "\n",
    "CTV_df['Portofolio']='JVLNG'\n",
    "CTV_df['Commodity']='CTV'\n",
    "CTV_df['Commodity'] = CTV_df['Commodity'].astype('int64')\n",
    "\n",
    "\n",
    "IAC_df['Portofolio']='MEDG2'\n",
    "IAC_df['Commodity']='IAC'\n",
    "\n",
    "AOC_df['Portofolio']='SUGST'\n",
    "AOC_df['Commodity']='AOC'\n",
    "\n",
    "AOC2_df['Portofolio']='SUGS2'\n",
    "AOC2_df['Commodity']='AOC'\n"
   ],
   "outputs": [
    {
     "ename": "ValueError",
     "evalue": "invalid literal for int() with base 10: 'CTV'",
     "output_type": "error",
     "traceback": [
      "\u001B[1;31m---------------------------------------------------------------------------\u001B[0m",
      "\u001B[1;31mValueError\u001B[0m                                Traceback (most recent call last)",
      "Cell \u001B[1;32mIn[55], line 6\u001B[0m\n\u001B[0;32m      4\u001B[0m CTV_df[\u001B[38;5;124m'\u001B[39m\u001B[38;5;124mPortofolio\u001B[39m\u001B[38;5;124m'\u001B[39m]\u001B[38;5;241m=\u001B[39m\u001B[38;5;124m'\u001B[39m\u001B[38;5;124mJVLNG\u001B[39m\u001B[38;5;124m'\u001B[39m\n\u001B[0;32m      5\u001B[0m CTV_df[\u001B[38;5;124m'\u001B[39m\u001B[38;5;124mCommodity\u001B[39m\u001B[38;5;124m'\u001B[39m]\u001B[38;5;241m=\u001B[39m\u001B[38;5;124m'\u001B[39m\u001B[38;5;124mCTV\u001B[39m\u001B[38;5;124m'\u001B[39m\n\u001B[1;32m----> 6\u001B[0m CTV_df[\u001B[38;5;124m'\u001B[39m\u001B[38;5;124mCommodity\u001B[39m\u001B[38;5;124m'\u001B[39m] \u001B[38;5;241m=\u001B[39m \u001B[43mCTV_df\u001B[49m\u001B[43m[\u001B[49m\u001B[38;5;124;43m'\u001B[39;49m\u001B[38;5;124;43mCommodity\u001B[39;49m\u001B[38;5;124;43m'\u001B[39;49m\u001B[43m]\u001B[49m\u001B[38;5;241;43m.\u001B[39;49m\u001B[43mastype\u001B[49m\u001B[43m(\u001B[49m\u001B[38;5;124;43m'\u001B[39;49m\u001B[38;5;124;43mint64\u001B[39;49m\u001B[38;5;124;43m'\u001B[39;49m\u001B[43m)\u001B[49m\n\u001B[0;32m      9\u001B[0m IAC_df[\u001B[38;5;124m'\u001B[39m\u001B[38;5;124mPortofolio\u001B[39m\u001B[38;5;124m'\u001B[39m]\u001B[38;5;241m=\u001B[39m\u001B[38;5;124m'\u001B[39m\u001B[38;5;124mMEDG2\u001B[39m\u001B[38;5;124m'\u001B[39m\n\u001B[0;32m     10\u001B[0m IAC_df[\u001B[38;5;124m'\u001B[39m\u001B[38;5;124mCommodity\u001B[39m\u001B[38;5;124m'\u001B[39m]\u001B[38;5;241m=\u001B[39m\u001B[38;5;124m'\u001B[39m\u001B[38;5;124mIAC\u001B[39m\u001B[38;5;124m'\u001B[39m\n",
      "File \u001B[1;32m~\\AppData\\Local\\Programs\\Python\\Python312\\Lib\\site-packages\\pandas\\core\\generic.py:6643\u001B[0m, in \u001B[0;36mNDFrame.astype\u001B[1;34m(self, dtype, copy, errors)\u001B[0m\n\u001B[0;32m   6637\u001B[0m     results \u001B[38;5;241m=\u001B[39m [\n\u001B[0;32m   6638\u001B[0m         ser\u001B[38;5;241m.\u001B[39mastype(dtype, copy\u001B[38;5;241m=\u001B[39mcopy, errors\u001B[38;5;241m=\u001B[39merrors) \u001B[38;5;28;01mfor\u001B[39;00m _, ser \u001B[38;5;129;01min\u001B[39;00m \u001B[38;5;28mself\u001B[39m\u001B[38;5;241m.\u001B[39mitems()\n\u001B[0;32m   6639\u001B[0m     ]\n\u001B[0;32m   6641\u001B[0m \u001B[38;5;28;01melse\u001B[39;00m:\n\u001B[0;32m   6642\u001B[0m     \u001B[38;5;66;03m# else, only a single dtype is given\u001B[39;00m\n\u001B[1;32m-> 6643\u001B[0m     new_data \u001B[38;5;241m=\u001B[39m \u001B[38;5;28;43mself\u001B[39;49m\u001B[38;5;241;43m.\u001B[39;49m\u001B[43m_mgr\u001B[49m\u001B[38;5;241;43m.\u001B[39;49m\u001B[43mastype\u001B[49m\u001B[43m(\u001B[49m\u001B[43mdtype\u001B[49m\u001B[38;5;241;43m=\u001B[39;49m\u001B[43mdtype\u001B[49m\u001B[43m,\u001B[49m\u001B[43m \u001B[49m\u001B[43mcopy\u001B[49m\u001B[38;5;241;43m=\u001B[39;49m\u001B[43mcopy\u001B[49m\u001B[43m,\u001B[49m\u001B[43m \u001B[49m\u001B[43merrors\u001B[49m\u001B[38;5;241;43m=\u001B[39;49m\u001B[43merrors\u001B[49m\u001B[43m)\u001B[49m\n\u001B[0;32m   6644\u001B[0m     res \u001B[38;5;241m=\u001B[39m \u001B[38;5;28mself\u001B[39m\u001B[38;5;241m.\u001B[39m_constructor_from_mgr(new_data, axes\u001B[38;5;241m=\u001B[39mnew_data\u001B[38;5;241m.\u001B[39maxes)\n\u001B[0;32m   6645\u001B[0m     \u001B[38;5;28;01mreturn\u001B[39;00m res\u001B[38;5;241m.\u001B[39m__finalize__(\u001B[38;5;28mself\u001B[39m, method\u001B[38;5;241m=\u001B[39m\u001B[38;5;124m\"\u001B[39m\u001B[38;5;124mastype\u001B[39m\u001B[38;5;124m\"\u001B[39m)\n",
      "File \u001B[1;32m~\\AppData\\Local\\Programs\\Python\\Python312\\Lib\\site-packages\\pandas\\core\\internals\\managers.py:430\u001B[0m, in \u001B[0;36mBaseBlockManager.astype\u001B[1;34m(self, dtype, copy, errors)\u001B[0m\n\u001B[0;32m    427\u001B[0m \u001B[38;5;28;01melif\u001B[39;00m using_copy_on_write():\n\u001B[0;32m    428\u001B[0m     copy \u001B[38;5;241m=\u001B[39m \u001B[38;5;28;01mFalse\u001B[39;00m\n\u001B[1;32m--> 430\u001B[0m \u001B[38;5;28;01mreturn\u001B[39;00m \u001B[38;5;28;43mself\u001B[39;49m\u001B[38;5;241;43m.\u001B[39;49m\u001B[43mapply\u001B[49m\u001B[43m(\u001B[49m\n\u001B[0;32m    431\u001B[0m \u001B[43m    \u001B[49m\u001B[38;5;124;43m\"\u001B[39;49m\u001B[38;5;124;43mastype\u001B[39;49m\u001B[38;5;124;43m\"\u001B[39;49m\u001B[43m,\u001B[49m\n\u001B[0;32m    432\u001B[0m \u001B[43m    \u001B[49m\u001B[43mdtype\u001B[49m\u001B[38;5;241;43m=\u001B[39;49m\u001B[43mdtype\u001B[49m\u001B[43m,\u001B[49m\n\u001B[0;32m    433\u001B[0m \u001B[43m    \u001B[49m\u001B[43mcopy\u001B[49m\u001B[38;5;241;43m=\u001B[39;49m\u001B[43mcopy\u001B[49m\u001B[43m,\u001B[49m\n\u001B[0;32m    434\u001B[0m \u001B[43m    \u001B[49m\u001B[43merrors\u001B[49m\u001B[38;5;241;43m=\u001B[39;49m\u001B[43merrors\u001B[49m\u001B[43m,\u001B[49m\n\u001B[0;32m    435\u001B[0m \u001B[43m    \u001B[49m\u001B[43musing_cow\u001B[49m\u001B[38;5;241;43m=\u001B[39;49m\u001B[43musing_copy_on_write\u001B[49m\u001B[43m(\u001B[49m\u001B[43m)\u001B[49m\u001B[43m,\u001B[49m\n\u001B[0;32m    436\u001B[0m \u001B[43m\u001B[49m\u001B[43m)\u001B[49m\n",
      "File \u001B[1;32m~\\AppData\\Local\\Programs\\Python\\Python312\\Lib\\site-packages\\pandas\\core\\internals\\managers.py:363\u001B[0m, in \u001B[0;36mBaseBlockManager.apply\u001B[1;34m(self, f, align_keys, **kwargs)\u001B[0m\n\u001B[0;32m    361\u001B[0m         applied \u001B[38;5;241m=\u001B[39m b\u001B[38;5;241m.\u001B[39mapply(f, \u001B[38;5;241m*\u001B[39m\u001B[38;5;241m*\u001B[39mkwargs)\n\u001B[0;32m    362\u001B[0m     \u001B[38;5;28;01melse\u001B[39;00m:\n\u001B[1;32m--> 363\u001B[0m         applied \u001B[38;5;241m=\u001B[39m \u001B[38;5;28;43mgetattr\u001B[39;49m\u001B[43m(\u001B[49m\u001B[43mb\u001B[49m\u001B[43m,\u001B[49m\u001B[43m \u001B[49m\u001B[43mf\u001B[49m\u001B[43m)\u001B[49m\u001B[43m(\u001B[49m\u001B[38;5;241;43m*\u001B[39;49m\u001B[38;5;241;43m*\u001B[39;49m\u001B[43mkwargs\u001B[49m\u001B[43m)\u001B[49m\n\u001B[0;32m    364\u001B[0m     result_blocks \u001B[38;5;241m=\u001B[39m extend_blocks(applied, result_blocks)\n\u001B[0;32m    366\u001B[0m out \u001B[38;5;241m=\u001B[39m \u001B[38;5;28mtype\u001B[39m(\u001B[38;5;28mself\u001B[39m)\u001B[38;5;241m.\u001B[39mfrom_blocks(result_blocks, \u001B[38;5;28mself\u001B[39m\u001B[38;5;241m.\u001B[39maxes)\n",
      "File \u001B[1;32m~\\AppData\\Local\\Programs\\Python\\Python312\\Lib\\site-packages\\pandas\\core\\internals\\blocks.py:758\u001B[0m, in \u001B[0;36mBlock.astype\u001B[1;34m(self, dtype, copy, errors, using_cow, squeeze)\u001B[0m\n\u001B[0;32m    755\u001B[0m         \u001B[38;5;28;01mraise\u001B[39;00m \u001B[38;5;167;01mValueError\u001B[39;00m(\u001B[38;5;124m\"\u001B[39m\u001B[38;5;124mCan not squeeze with more than one column.\u001B[39m\u001B[38;5;124m\"\u001B[39m)\n\u001B[0;32m    756\u001B[0m     values \u001B[38;5;241m=\u001B[39m values[\u001B[38;5;241m0\u001B[39m, :]  \u001B[38;5;66;03m# type: ignore[call-overload]\u001B[39;00m\n\u001B[1;32m--> 758\u001B[0m new_values \u001B[38;5;241m=\u001B[39m \u001B[43mastype_array_safe\u001B[49m\u001B[43m(\u001B[49m\u001B[43mvalues\u001B[49m\u001B[43m,\u001B[49m\u001B[43m \u001B[49m\u001B[43mdtype\u001B[49m\u001B[43m,\u001B[49m\u001B[43m \u001B[49m\u001B[43mcopy\u001B[49m\u001B[38;5;241;43m=\u001B[39;49m\u001B[43mcopy\u001B[49m\u001B[43m,\u001B[49m\u001B[43m \u001B[49m\u001B[43merrors\u001B[49m\u001B[38;5;241;43m=\u001B[39;49m\u001B[43merrors\u001B[49m\u001B[43m)\u001B[49m\n\u001B[0;32m    760\u001B[0m new_values \u001B[38;5;241m=\u001B[39m maybe_coerce_values(new_values)\n\u001B[0;32m    762\u001B[0m refs \u001B[38;5;241m=\u001B[39m \u001B[38;5;28;01mNone\u001B[39;00m\n",
      "File \u001B[1;32m~\\AppData\\Local\\Programs\\Python\\Python312\\Lib\\site-packages\\pandas\\core\\dtypes\\astype.py:237\u001B[0m, in \u001B[0;36mastype_array_safe\u001B[1;34m(values, dtype, copy, errors)\u001B[0m\n\u001B[0;32m    234\u001B[0m     dtype \u001B[38;5;241m=\u001B[39m dtype\u001B[38;5;241m.\u001B[39mnumpy_dtype\n\u001B[0;32m    236\u001B[0m \u001B[38;5;28;01mtry\u001B[39;00m:\n\u001B[1;32m--> 237\u001B[0m     new_values \u001B[38;5;241m=\u001B[39m \u001B[43mastype_array\u001B[49m\u001B[43m(\u001B[49m\u001B[43mvalues\u001B[49m\u001B[43m,\u001B[49m\u001B[43m \u001B[49m\u001B[43mdtype\u001B[49m\u001B[43m,\u001B[49m\u001B[43m \u001B[49m\u001B[43mcopy\u001B[49m\u001B[38;5;241;43m=\u001B[39;49m\u001B[43mcopy\u001B[49m\u001B[43m)\u001B[49m\n\u001B[0;32m    238\u001B[0m \u001B[38;5;28;01mexcept\u001B[39;00m (\u001B[38;5;167;01mValueError\u001B[39;00m, \u001B[38;5;167;01mTypeError\u001B[39;00m):\n\u001B[0;32m    239\u001B[0m     \u001B[38;5;66;03m# e.g. _astype_nansafe can fail on object-dtype of strings\u001B[39;00m\n\u001B[0;32m    240\u001B[0m     \u001B[38;5;66;03m#  trying to convert to float\u001B[39;00m\n\u001B[0;32m    241\u001B[0m     \u001B[38;5;28;01mif\u001B[39;00m errors \u001B[38;5;241m==\u001B[39m \u001B[38;5;124m\"\u001B[39m\u001B[38;5;124mignore\u001B[39m\u001B[38;5;124m\"\u001B[39m:\n",
      "File \u001B[1;32m~\\AppData\\Local\\Programs\\Python\\Python312\\Lib\\site-packages\\pandas\\core\\dtypes\\astype.py:182\u001B[0m, in \u001B[0;36mastype_array\u001B[1;34m(values, dtype, copy)\u001B[0m\n\u001B[0;32m    179\u001B[0m     values \u001B[38;5;241m=\u001B[39m values\u001B[38;5;241m.\u001B[39mastype(dtype, copy\u001B[38;5;241m=\u001B[39mcopy)\n\u001B[0;32m    181\u001B[0m \u001B[38;5;28;01melse\u001B[39;00m:\n\u001B[1;32m--> 182\u001B[0m     values \u001B[38;5;241m=\u001B[39m \u001B[43m_astype_nansafe\u001B[49m\u001B[43m(\u001B[49m\u001B[43mvalues\u001B[49m\u001B[43m,\u001B[49m\u001B[43m \u001B[49m\u001B[43mdtype\u001B[49m\u001B[43m,\u001B[49m\u001B[43m \u001B[49m\u001B[43mcopy\u001B[49m\u001B[38;5;241;43m=\u001B[39;49m\u001B[43mcopy\u001B[49m\u001B[43m)\u001B[49m\n\u001B[0;32m    184\u001B[0m \u001B[38;5;66;03m# in pandas we don't store numpy str dtypes, so convert to object\u001B[39;00m\n\u001B[0;32m    185\u001B[0m \u001B[38;5;28;01mif\u001B[39;00m \u001B[38;5;28misinstance\u001B[39m(dtype, np\u001B[38;5;241m.\u001B[39mdtype) \u001B[38;5;129;01mand\u001B[39;00m \u001B[38;5;28missubclass\u001B[39m(values\u001B[38;5;241m.\u001B[39mdtype\u001B[38;5;241m.\u001B[39mtype, \u001B[38;5;28mstr\u001B[39m):\n",
      "File \u001B[1;32m~\\AppData\\Local\\Programs\\Python\\Python312\\Lib\\site-packages\\pandas\\core\\dtypes\\astype.py:133\u001B[0m, in \u001B[0;36m_astype_nansafe\u001B[1;34m(arr, dtype, copy, skipna)\u001B[0m\n\u001B[0;32m    129\u001B[0m     \u001B[38;5;28;01mraise\u001B[39;00m \u001B[38;5;167;01mValueError\u001B[39;00m(msg)\n\u001B[0;32m    131\u001B[0m \u001B[38;5;28;01mif\u001B[39;00m copy \u001B[38;5;129;01mor\u001B[39;00m arr\u001B[38;5;241m.\u001B[39mdtype \u001B[38;5;241m==\u001B[39m \u001B[38;5;28mobject\u001B[39m \u001B[38;5;129;01mor\u001B[39;00m dtype \u001B[38;5;241m==\u001B[39m \u001B[38;5;28mobject\u001B[39m:\n\u001B[0;32m    132\u001B[0m     \u001B[38;5;66;03m# Explicit copy, or required since NumPy can't view from / to object.\u001B[39;00m\n\u001B[1;32m--> 133\u001B[0m     \u001B[38;5;28;01mreturn\u001B[39;00m \u001B[43marr\u001B[49m\u001B[38;5;241;43m.\u001B[39;49m\u001B[43mastype\u001B[49m\u001B[43m(\u001B[49m\u001B[43mdtype\u001B[49m\u001B[43m,\u001B[49m\u001B[43m \u001B[49m\u001B[43mcopy\u001B[49m\u001B[38;5;241;43m=\u001B[39;49m\u001B[38;5;28;43;01mTrue\u001B[39;49;00m\u001B[43m)\u001B[49m\n\u001B[0;32m    135\u001B[0m \u001B[38;5;28;01mreturn\u001B[39;00m arr\u001B[38;5;241m.\u001B[39mastype(dtype, copy\u001B[38;5;241m=\u001B[39mcopy)\n",
      "\u001B[1;31mValueError\u001B[0m: invalid literal for int() with base 10: 'CTV'"
     ]
    }
   ],
   "execution_count": 55
  },
  {
   "metadata": {
    "ExecuteTime": {
     "end_time": "2024-06-20T19:36:50.031797Z",
     "start_time": "2024-06-20T19:36:49.998845Z"
    }
   },
   "cell_type": "code",
   "source": [
    "# ahora unimos cada uno con mapping\n",
    "\n",
    "CTV_mapped_df=pd.merge(CTV_df,mapping_df,how='inner')\n",
    "\n",
    "print(CTV_mapped_df.head())"
   ],
   "outputs": [
    {
     "ename": "ValueError",
     "evalue": "You are trying to merge on int64 and object columns for key 'Portfolio'. If you wish to proceed you should use pd.concat",
     "output_type": "error",
     "traceback": [
      "\u001B[1;31m---------------------------------------------------------------------------\u001B[0m",
      "\u001B[1;31mValueError\u001B[0m                                Traceback (most recent call last)",
      "Cell \u001B[1;32mIn[62], line 3\u001B[0m\n\u001B[0;32m      1\u001B[0m \u001B[38;5;66;03m# ahora unimos cada uno con mapping\u001B[39;00m\n\u001B[1;32m----> 3\u001B[0m CTV_mapped_df\u001B[38;5;241m=\u001B[39m\u001B[43mpd\u001B[49m\u001B[38;5;241;43m.\u001B[39;49m\u001B[43mmerge\u001B[49m\u001B[43m(\u001B[49m\u001B[43mCTV_df\u001B[49m\u001B[43m,\u001B[49m\u001B[43mmapping_df\u001B[49m\u001B[43m,\u001B[49m\u001B[43mhow\u001B[49m\u001B[38;5;241;43m=\u001B[39;49m\u001B[38;5;124;43m'\u001B[39;49m\u001B[38;5;124;43minner\u001B[39;49m\u001B[38;5;124;43m'\u001B[39;49m\u001B[43m)\u001B[49m\n\u001B[0;32m      5\u001B[0m \u001B[38;5;28mprint\u001B[39m(CTV_mapped_df\u001B[38;5;241m.\u001B[39mhead())\n",
      "File \u001B[1;32m~\\AppData\\Local\\Programs\\Python\\Python312\\Lib\\site-packages\\pandas\\core\\reshape\\merge.py:170\u001B[0m, in \u001B[0;36mmerge\u001B[1;34m(left, right, how, on, left_on, right_on, left_index, right_index, sort, suffixes, copy, indicator, validate)\u001B[0m\n\u001B[0;32m    155\u001B[0m     \u001B[38;5;28;01mreturn\u001B[39;00m _cross_merge(\n\u001B[0;32m    156\u001B[0m         left_df,\n\u001B[0;32m    157\u001B[0m         right_df,\n\u001B[1;32m   (...)\u001B[0m\n\u001B[0;32m    167\u001B[0m         copy\u001B[38;5;241m=\u001B[39mcopy,\n\u001B[0;32m    168\u001B[0m     )\n\u001B[0;32m    169\u001B[0m \u001B[38;5;28;01melse\u001B[39;00m:\n\u001B[1;32m--> 170\u001B[0m     op \u001B[38;5;241m=\u001B[39m \u001B[43m_MergeOperation\u001B[49m\u001B[43m(\u001B[49m\n\u001B[0;32m    171\u001B[0m \u001B[43m        \u001B[49m\u001B[43mleft_df\u001B[49m\u001B[43m,\u001B[49m\n\u001B[0;32m    172\u001B[0m \u001B[43m        \u001B[49m\u001B[43mright_df\u001B[49m\u001B[43m,\u001B[49m\n\u001B[0;32m    173\u001B[0m \u001B[43m        \u001B[49m\u001B[43mhow\u001B[49m\u001B[38;5;241;43m=\u001B[39;49m\u001B[43mhow\u001B[49m\u001B[43m,\u001B[49m\n\u001B[0;32m    174\u001B[0m \u001B[43m        \u001B[49m\u001B[43mon\u001B[49m\u001B[38;5;241;43m=\u001B[39;49m\u001B[43mon\u001B[49m\u001B[43m,\u001B[49m\n\u001B[0;32m    175\u001B[0m \u001B[43m        \u001B[49m\u001B[43mleft_on\u001B[49m\u001B[38;5;241;43m=\u001B[39;49m\u001B[43mleft_on\u001B[49m\u001B[43m,\u001B[49m\n\u001B[0;32m    176\u001B[0m \u001B[43m        \u001B[49m\u001B[43mright_on\u001B[49m\u001B[38;5;241;43m=\u001B[39;49m\u001B[43mright_on\u001B[49m\u001B[43m,\u001B[49m\n\u001B[0;32m    177\u001B[0m \u001B[43m        \u001B[49m\u001B[43mleft_index\u001B[49m\u001B[38;5;241;43m=\u001B[39;49m\u001B[43mleft_index\u001B[49m\u001B[43m,\u001B[49m\n\u001B[0;32m    178\u001B[0m \u001B[43m        \u001B[49m\u001B[43mright_index\u001B[49m\u001B[38;5;241;43m=\u001B[39;49m\u001B[43mright_index\u001B[49m\u001B[43m,\u001B[49m\n\u001B[0;32m    179\u001B[0m \u001B[43m        \u001B[49m\u001B[43msort\u001B[49m\u001B[38;5;241;43m=\u001B[39;49m\u001B[43msort\u001B[49m\u001B[43m,\u001B[49m\n\u001B[0;32m    180\u001B[0m \u001B[43m        \u001B[49m\u001B[43msuffixes\u001B[49m\u001B[38;5;241;43m=\u001B[39;49m\u001B[43msuffixes\u001B[49m\u001B[43m,\u001B[49m\n\u001B[0;32m    181\u001B[0m \u001B[43m        \u001B[49m\u001B[43mindicator\u001B[49m\u001B[38;5;241;43m=\u001B[39;49m\u001B[43mindicator\u001B[49m\u001B[43m,\u001B[49m\n\u001B[0;32m    182\u001B[0m \u001B[43m        \u001B[49m\u001B[43mvalidate\u001B[49m\u001B[38;5;241;43m=\u001B[39;49m\u001B[43mvalidate\u001B[49m\u001B[43m,\u001B[49m\n\u001B[0;32m    183\u001B[0m \u001B[43m    \u001B[49m\u001B[43m)\u001B[49m\n\u001B[0;32m    184\u001B[0m     \u001B[38;5;28;01mreturn\u001B[39;00m op\u001B[38;5;241m.\u001B[39mget_result(copy\u001B[38;5;241m=\u001B[39mcopy)\n",
      "File \u001B[1;32m~\\AppData\\Local\\Programs\\Python\\Python312\\Lib\\site-packages\\pandas\\core\\reshape\\merge.py:807\u001B[0m, in \u001B[0;36m_MergeOperation.__init__\u001B[1;34m(self, left, right, how, on, left_on, right_on, left_index, right_index, sort, suffixes, indicator, validate)\u001B[0m\n\u001B[0;32m    803\u001B[0m \u001B[38;5;28mself\u001B[39m\u001B[38;5;241m.\u001B[39m_validate_tolerance(\u001B[38;5;28mself\u001B[39m\u001B[38;5;241m.\u001B[39mleft_join_keys)\n\u001B[0;32m    805\u001B[0m \u001B[38;5;66;03m# validate the merge keys dtypes. We may need to coerce\u001B[39;00m\n\u001B[0;32m    806\u001B[0m \u001B[38;5;66;03m# to avoid incompatible dtypes\u001B[39;00m\n\u001B[1;32m--> 807\u001B[0m \u001B[38;5;28;43mself\u001B[39;49m\u001B[38;5;241;43m.\u001B[39;49m\u001B[43m_maybe_coerce_merge_keys\u001B[49m\u001B[43m(\u001B[49m\u001B[43m)\u001B[49m\n\u001B[0;32m    809\u001B[0m \u001B[38;5;66;03m# If argument passed to validate,\u001B[39;00m\n\u001B[0;32m    810\u001B[0m \u001B[38;5;66;03m# check if columns specified as unique\u001B[39;00m\n\u001B[0;32m    811\u001B[0m \u001B[38;5;66;03m# are in fact unique.\u001B[39;00m\n\u001B[0;32m    812\u001B[0m \u001B[38;5;28;01mif\u001B[39;00m validate \u001B[38;5;129;01mis\u001B[39;00m \u001B[38;5;129;01mnot\u001B[39;00m \u001B[38;5;28;01mNone\u001B[39;00m:\n",
      "File \u001B[1;32m~\\AppData\\Local\\Programs\\Python\\Python312\\Lib\\site-packages\\pandas\\core\\reshape\\merge.py:1508\u001B[0m, in \u001B[0;36m_MergeOperation._maybe_coerce_merge_keys\u001B[1;34m(self)\u001B[0m\n\u001B[0;32m   1502\u001B[0m     \u001B[38;5;66;03m# unless we are merging non-string-like with string-like\u001B[39;00m\n\u001B[0;32m   1503\u001B[0m     \u001B[38;5;28;01melif\u001B[39;00m (\n\u001B[0;32m   1504\u001B[0m         inferred_left \u001B[38;5;129;01min\u001B[39;00m string_types \u001B[38;5;129;01mand\u001B[39;00m inferred_right \u001B[38;5;129;01mnot\u001B[39;00m \u001B[38;5;129;01min\u001B[39;00m string_types\n\u001B[0;32m   1505\u001B[0m     ) \u001B[38;5;129;01mor\u001B[39;00m (\n\u001B[0;32m   1506\u001B[0m         inferred_right \u001B[38;5;129;01min\u001B[39;00m string_types \u001B[38;5;129;01mand\u001B[39;00m inferred_left \u001B[38;5;129;01mnot\u001B[39;00m \u001B[38;5;129;01min\u001B[39;00m string_types\n\u001B[0;32m   1507\u001B[0m     ):\n\u001B[1;32m-> 1508\u001B[0m         \u001B[38;5;28;01mraise\u001B[39;00m \u001B[38;5;167;01mValueError\u001B[39;00m(msg)\n\u001B[0;32m   1510\u001B[0m \u001B[38;5;66;03m# datetimelikes must match exactly\u001B[39;00m\n\u001B[0;32m   1511\u001B[0m \u001B[38;5;28;01melif\u001B[39;00m needs_i8_conversion(lk\u001B[38;5;241m.\u001B[39mdtype) \u001B[38;5;129;01mand\u001B[39;00m \u001B[38;5;129;01mnot\u001B[39;00m needs_i8_conversion(rk\u001B[38;5;241m.\u001B[39mdtype):\n",
      "\u001B[1;31mValueError\u001B[0m: You are trying to merge on int64 and object columns for key 'Portfolio'. If you wish to proceed you should use pd.concat"
     ]
    }
   ],
   "execution_count": 62
  },
  {
   "cell_type": "markdown",
   "source": [
    "## Propuesta de Valor"
   ],
   "metadata": {
    "id": "-c7F_UKvQ0Ir"
   }
  }
 ]
}
